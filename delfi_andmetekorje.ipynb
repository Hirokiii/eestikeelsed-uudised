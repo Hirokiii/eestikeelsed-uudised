{
 "cells": [
  {
   "cell_type": "code",
   "execution_count": 60,
   "metadata": {},
   "outputs": [],
   "source": [
    "import csv\n",
    "urls_delfi = []\n",
    "\n",
    "with open('delfi_päevauudised_2020_03122020.csv', 'r', encoding = 'utf-8') as f:\n",
    "    reader = csv.reader(f)\n",
    "    for line in reader:\n",
    "        if line != []:\n",
    "            urls_delfi.append(line[0])"
   ]
  },
  {
   "cell_type": "code",
   "execution_count": 62,
   "metadata": {},
   "outputs": [
    {
     "name": "stderr",
     "output_type": "stream",
     "text": [
      "100%|████████████████████████████████████████████████████████████████████████████| 6226/6226 [1:21:29<00:00,  1.27it/s]\n"
     ]
    }
   ],
   "source": [
    "import requests\n",
    "from bs4 import BeautifulSoup\n",
    "import pandas as pd\n",
    "from tqdm import tqdm\n",
    "\n",
    "headers = requests.utils.default_headers()\n",
    "headers.update(\n",
    "  { 'User-Agent': 'my crawler (anneliis@ut.ee) / on studying purpose', }\n",
    ")\n",
    "pealkiri = soup.find(\"meta\", {\"property\" :\"og:title\"})['content']\n",
    "artiklid_delfi_politicsf = {}\n",
    "pealkirjad_delfi_politics = []\n",
    "tekstid_delfi_politics = []\n",
    "väljaanded_delfi_politics = []\n",
    "ajad_delfi_politics =[]\n",
    "thearticle = []\n",
    "\n",
    "for url in tqdm(urls_delfi):\n",
    "    \n",
    "    response = requests.get(url, headers=headers)\n",
    "    soup = BeautifulSoup(response.text, 'html.parser')\n",
    "    yhendatud_tekst = []\n",
    "    if soup.find(\"meta\", {\"property\" :\"og:title\"})['content']:\n",
    "        pealkiri = soup.find(\"meta\", {\"property\" :\"og:title\"})['content']\n",
    "        pealkirjad_delfi_politics.append(pealkiri)\n",
    "\n",
    "    #<div class=\"article__body\" itemprop=\"articleBody\">\n",
    "    tekst = soup.findAll(\"div\", {\"class\" : \"article__body\"})#.get_text(strip=True)\n",
    "    #yhendatud_tekst = ' '\n",
    "    for t in tekst:\n",
    "        p = t.find_all('p')\n",
    "        for r in p:\n",
    "            #yhendatud_tekst += r.text\n",
    "            yhendatud_tekst.append(r.text)\n",
    "            #print(r.text)\n",
    "    tekstid_delfi_politics.append(yhendatud_tekst)\n",
    "    #tekstid_delfi_politics = \" \".join(yhendatud_tekst)\n",
    "    \n",
    "    #<meta property=\"og:site_name\" content=\"Forte\" />\n",
    "    väljaanne = soup.find(\"meta\", {\"property\" :\"og:site_name\"})['content']\n",
    "    väljaanded_delfi_politics.append(väljaanne)\n",
    "   \n",
    "    #<div class=\"article__date\">12.11.2020, 09:28</div>\n",
    "    if soup.find(\"meta\", {\"property\" : \"article:published_time\"})['content']:#.get_text(strip=True):\n",
    "        aeg = soup.find(\"meta\", {\"property\" : \"article:published_time\"})['content']\n",
    "        ajad_delfi_politics.append(aeg)\n",
    "artikkel = [' '.join(article) for article in tekstid_delfi_politics]\n",
    "artiklid_delfi_politics = {'title': pealkirjad_delfi_politics, 'text': artikkel,'subject': väljaanded_delfi_politics, 'date': ajad_delfi_politics}\n"
   ]
  },
  {
   "cell_type": "code",
   "execution_count": 64,
   "metadata": {},
   "outputs": [],
   "source": [
    "data_delfi = pd.DataFrame(artiklid_delfi_politics, columns = ['title', 'text','subject', 'date'])"
   ]
  },
  {
   "cell_type": "code",
   "execution_count": 66,
   "metadata": {},
   "outputs": [],
   "source": [
    "data_delfi.to_csv('data_delfi_arhiiv_03122020.csv',index=False)"
   ]
  }
 ],
 "metadata": {
  "kernelspec": {
   "display_name": "Python 3",
   "language": "python",
   "name": "python3"
  },
  "language_info": {
   "codemirror_mode": {
    "name": "ipython",
    "version": 3
   },
   "file_extension": ".py",
   "mimetype": "text/x-python",
   "name": "python",
   "nbconvert_exporter": "python",
   "pygments_lexer": "ipython3",
   "version": "3.6.10"
  }
 },
 "nbformat": 4,
 "nbformat_minor": 4
}
