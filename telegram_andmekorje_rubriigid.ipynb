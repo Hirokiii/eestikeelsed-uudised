{
 "cells": [
  {
   "cell_type": "code",
   "execution_count": 1,
   "metadata": {},
   "outputs": [],
   "source": [
    "import csv\n",
    "urls_telegram = []\n",
    "\n",
    "with open('telegram_rubriigid_arhiiv.csv', 'r', encoding = 'utf-8') as f:\n",
    "    reader = csv.reader(f)\n",
    "    for line in reader:\n",
    "        if line != []:\n",
    "            urls_telegram.append(line[0])"
   ]
  },
  {
   "cell_type": "code",
   "execution_count": 4,
   "metadata": {},
   "outputs": [
    {
     "name": "stderr",
     "output_type": "stream",
     "text": [
      "100%|██████████████████████████████████████████████████████████████████████████████████| 10/10 [00:08<00:00,  1.25it/s]\n"
     ]
    }
   ],
   "source": [
    "import requests\n",
    "from bs4 import BeautifulSoup\n",
    "from tqdm import tqdm\n",
    "import pandas as pd\n",
    "\n",
    "pealkirjad = []\n",
    "tekstid = []\n",
    "väljaanded = []\n",
    "ajad =[]\n",
    "\n",
    "for url in tqdm(urls_telegram):\n",
    "    page = requests.get(url)\n",
    "\n",
    "    soup = BeautifulSoup(page.content, \"html.parser\")\n",
    "    pealkiri = soup.find(\"meta\", {\"property\" : \"og:title\"})['content']\n",
    "    väljaanne = soup.find(\"meta\", {\"property\" : \"og:site_name\"})['content']\n",
    "    aeg = soup.find(\"meta\", {\"property\" : \"article:published_time\"})['content']\n",
    "    \n",
    "    results = soup.find(\"div\", attrs = {\"class\" : \"left articlecontent\"})\n",
    "    artikkel = results.find_all(\"div\")\n",
    "\n",
    "    for art in artikkel:\n",
    "        loik = art.find_all(\"p\")\n",
    "        for l in loik:\n",
    "            tekst = l.text.replace('\\n',' ')\n",
    "            tekst = tekst.replace('\\xa0',' ')\n",
    "            break\n",
    "    tekstid.append(tekst.strip())\n",
    "            \n",
    "\n",
    "    pealkirjad.append(pealkiri)\n",
    "    väljaanded.append(väljaanne)\n",
    "    ajad.append(aeg)"
   ]
  },
  {
   "cell_type": "code",
   "execution_count": 5,
   "metadata": {},
   "outputs": [],
   "source": [
    "artiklid = {'title': pealkirjad, 'text': tekstid,'subject': väljaanded, 'date': ajad, 'link': urls_telegram}"
   ]
  },
  {
   "cell_type": "code",
   "execution_count": 8,
   "metadata": {},
   "outputs": [],
   "source": [
    "data_telegram_rubriigid = pd.DataFrame(artiklid, columns = ['title', 'text','subject', 'date', 'link'])"
   ]
  },
  {
   "cell_type": "code",
   "execution_count": 206,
   "metadata": {},
   "outputs": [],
   "source": [
    "data_telegram_rubriigid.to_csv('data_telegram_rubriigid_arhiiv.csv',index=False)"
   ]
  },
  {
   "cell_type": "code",
   "execution_count": 205,
   "metadata": {},
   "outputs": [
    {
     "data": {
      "text/plain": [
       "(6272, 5)"
      ]
     },
     "execution_count": 205,
     "metadata": {},
     "output_type": "execute_result"
    }
   ],
   "source": [
    "data_telegram_rubriigid.shape"
   ]
  }
 ],
 "metadata": {
  "kernelspec": {
   "display_name": "Python 3",
   "language": "python",
   "name": "python3"
  },
  "language_info": {
   "codemirror_mode": {
    "name": "ipython",
    "version": 3
   },
   "file_extension": ".py",
   "mimetype": "text/x-python",
   "name": "python",
   "nbconvert_exporter": "python",
   "pygments_lexer": "ipython3",
   "version": "3.6.10"
  }
 },
 "nbformat": 4,
 "nbformat_minor": 4
}
