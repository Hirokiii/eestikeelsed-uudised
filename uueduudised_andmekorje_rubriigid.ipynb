{
 "cells": [
  {
   "cell_type": "code",
   "execution_count": 1,
   "metadata": {},
   "outputs": [],
   "source": [
    "import csv\n",
    "urls_uueduudised = []\n",
    "\n",
    "with open('uueduudised_rubriigid_arhiiv.csv', 'r', encoding = 'utf-8') as f:\n",
    "    reader = csv.reader(f)\n",
    "    for line in reader:\n",
    "        if line != []:\n",
    "            urls_uueduudised.append(line[0])"
   ]
  },
  {
   "cell_type": "code",
   "execution_count": 43,
   "metadata": {},
   "outputs": [
    {
     "name": "stderr",
     "output_type": "stream",
     "text": [
      "100%|████████████████████████████████████████████████████████████████████████████| 7000/7000 [2:48:12<00:00,  1.44s/it]\n"
     ]
    }
   ],
   "source": [
    "import requests\n",
    "from bs4 import BeautifulSoup\n",
    "from tqdm import tqdm\n",
    "import pandas as pd\n",
    "\n",
    "pealkirjad = []\n",
    "tekstid = []\n",
    "väljaanded = []\n",
    "ajad =[]\n",
    "reklaamiteade = 'Järgneb Google reklaam. Uute uudiste toimetus ei vastuta Google algoritmide poolt personaalselt teile suunatud reklaamide sisu eest. Soovitame usaldada ainult tuntud ja usaldusväärseid kaubamärke.'\n",
    "for url in tqdm(urls_uueduudised[:7000]):\n",
    "    page = requests.get(url)\n",
    "\n",
    "    soup = BeautifulSoup(page.content, \"html.parser\")\n",
    "    pealkiri = soup.find(\"meta\", {\"property\" : \"og:title\"})['content']\n",
    "    pealkiri = pealkiri.replace('\\xa0','')\n",
    "    väljaanne = soup.find(\"meta\", {\"property\" : \"og:site_name\"})['content']\n",
    "    aeg = soup.find(\"meta\", {\"itemprop\" : \"datePublished\"})['content']\n",
    "\n",
    "    artikkel = soup.findAll(\"div\", {\"itemprop\" : \"articleBody\"})\n",
    "    #artikkel = results.find_all(\"div\")\n",
    "    yhendatud_tekst = ''\n",
    "    for art in artikkel:\n",
    "        loik = art.find_all(\"p\")\n",
    "        for l in loik:\n",
    "            if reklaamiteade not in l.text:\n",
    "                text = l.text.replace('\\n','')\n",
    "                text = text.replace('\\xa0','')\n",
    "                text = text + ' '\n",
    "                yhendatud_tekst += text\n",
    "    tekstid.append(yhendatud_tekst)\n",
    "       \n",
    "    pealkirjad.append(pealkiri)\n",
    "    väljaanded.append(väljaanne)\n",
    "    ajad.append(aeg)"
   ]
  },
  {
   "cell_type": "code",
   "execution_count": 44,
   "metadata": {},
   "outputs": [],
   "source": [
    "artiklid_7000 = {'title': pealkirjad, 'text': tekstid,'subject': väljaanded, 'date': ajad, 'link': urls_uueduudised[:7000]}"
   ]
  },
  {
   "cell_type": "code",
   "execution_count": 46,
   "metadata": {},
   "outputs": [],
   "source": [
    "data_uueduudised_rubriigid = pd.DataFrame(artiklid_7000, columns = ['title', 'text','subject', 'date', 'link'])"
   ]
  },
  {
   "cell_type": "code",
   "execution_count": 47,
   "metadata": {},
   "outputs": [
    {
     "data": {
      "text/plain": [
       "(7000, 5)"
      ]
     },
     "execution_count": 47,
     "metadata": {},
     "output_type": "execute_result"
    }
   ],
   "source": [
    "data_uueduudised_rubriigid.shape"
   ]
  },
  {
   "cell_type": "code",
   "execution_count": 49,
   "metadata": {},
   "outputs": [],
   "source": [
    "data_uueduudised_rubriigid.to_csv('data_uueduudised_rubriigid_arhiiv.csv',index=False)"
   ]
  }
 ],
 "metadata": {
  "kernelspec": {
   "display_name": "Python 3",
   "language": "python",
   "name": "python3"
  },
  "language_info": {
   "codemirror_mode": {
    "name": "ipython",
    "version": 3
   },
   "file_extension": ".py",
   "mimetype": "text/x-python",
   "name": "python",
   "nbconvert_exporter": "python",
   "pygments_lexer": "ipython3",
   "version": "3.6.10"
  }
 },
 "nbformat": 4,
 "nbformat_minor": 4
}
