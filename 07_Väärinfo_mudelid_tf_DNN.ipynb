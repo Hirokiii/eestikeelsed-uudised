{
 "cells": [
  {
   "cell_type": "markdown",
   "metadata": {},
   "source": [
    "# 07 Väärinfo mudelid"
   ]
  },
  {
   "cell_type": "markdown",
   "metadata": {},
   "source": [
    "Inspiratsioon ja algallikad:\n",
    "1. Fake news detector\n",
    "https://www.kaggle.com/rodolfoluna/fake-news-detector\n",
    "2. Fake and real news dataset\n",
    "https://www.kaggle.com/clmentbisaillon/fake-and-real-news-dataset\n",
    "3. https://github.com/DARIAH-DE/tatom/tree/develop/source\n",
    "4. Classification of text documents using sparse features\n",
    "https://scikit-learn.org/stable/auto_examples/text/plot_document_classification_20newsgroups.html\n",
    "5. KNN Classification using Scikit-learn\n",
    "https://www.datacamp.com/community/tutorials/k-nearest-neighbor-classification-scikit-learn?utm_source=adwords_ppc&utm_campaignid=898687156&utm_adgroupid=48947256715&utm_device=c&utm_keyword=&utm_matchtype=b&utm_network=g&utm_adpostion=&utm_creative=332602034349&utm_targetid=aud-299261629574:dsa-429603003980&utm_loc_interest_ms=&utm_loc_physical_ms=9061567&gclid=CjwKCAiA-_L9BRBQEiwA-bm5fmXHZ5wjftR4hIRqhltZGr54molVq8Rf41i21I7aOOhgxu9MTO2FhBoCfSQQAvD_BwE\n",
    "6. Text classification using K Nearest Neighbors (KNN)\n",
    "https://iq.opengenus.org/text-classification-using-k-nearest-neighbors/\n",
    "7. Text Classification with Python and Scikit-Learn\n",
    "https://stackabuse.com/text-classification-with-python-and-scikit-learn/\n",
    "8. Advanced Python Project – Detecting Fake News with Python (PassiveAggressiveClassifier)\n",
    "https://data-flair.training/blogs/advanced-python-project-detecting-fake-news/\n",
    "9. How to Use Tfidftransformer & Tfidfvectorizer?\n",
    "https://kavita-ganesan.com/tfidftransformer-tfidfvectorizer-usage-differences/#.X9EGg2gzZPZ\n",
    "10. Latent Dirichlet Allocation\n",
    "https://radimrehurek.com/gensim/models/ldamodel.html\n",
    "11. How Naive Bayes Algorithm Works? (with example and full code)\n",
    "https://www.machinelearningplus.com/predictive-modeling/how-naive-bayes-algorithm-works-with-example-and-full-code/#9buildingnaivebayesclassifierinpython"
   ]
  },
  {
   "cell_type": "markdown",
   "metadata": {},
   "source": [
    "Eesmärk on leida masinõppemeetoditega mudel, mis oskaks ennustada, kas etteantud uudis on tõene või vale. "
   ]
  },
  {
   "cell_type": "code",
   "execution_count": 1,
   "metadata": {},
   "outputs": [],
   "source": [
    "import pandas as pd\n",
    "import numpy as np\n",
    "import matplotlib.pyplot as plt\n",
    "#from wordcloud import WordCloud\n",
    "from estnltk import Text\n",
    "from tqdm import tqdm\n",
    "import re\n",
    "from estnltk.wordnet import Wordnet\n",
    "import seaborn as sns\n",
    "#from gensim.models import Word2Vec\n",
    "from sklearn.feature_extraction.text import CountVectorizer\n",
    "from sklearn.feature_extraction.text import TfidfVectorizer\n",
    "from sklearn.feature_extraction.text import TfidfTransformer\n",
    "from sklearn import feature_extraction, linear_model, model_selection, preprocessing\n",
    "from sklearn.metrics import accuracy_score\n",
    "from sklearn.model_selection import train_test_split\n",
    "from sklearn.pipeline import Pipeline"
   ]
  },
  {
   "cell_type": "code",
   "execution_count": 2,
   "metadata": {
    "scrolled": true
   },
   "outputs": [
    {
     "name": "stdout",
     "output_type": "stream",
     "text": [
      "Väärinfo uudised:  (100, 5)\n",
      "Tõeseid uudiseid:  (100, 5)\n"
     ]
    }
   ],
   "source": [
    "fake = pd.read_csv(\"fake.csv\")\n",
    "true = pd.read_csv(\"true.csv\")\n",
    "print(\"Väärinfo uudised: \", fake.shape)\n",
    "print(\"Tõeseid uudiseid: \", true.shape)"
   ]
  },
  {
   "cell_type": "markdown",
   "metadata": {},
   "source": [
    "Mudelite koostamiseks kasutatakse märgendatud andmestikke. Iga uudisartikli kohta on kuus andmevälja:\n",
    "\n",
    "pealkiri\n",
    "\n",
    "uudise tekst\n",
    "\n",
    "väljaandja\n",
    "\n",
    "publitseerimise kuupäev\n",
    "\n",
    "artikli link\n",
    "\n",
    "märgendus (tõene või väär)"
   ]
  },
  {
   "cell_type": "code",
   "execution_count": 3,
   "metadata": {},
   "outputs": [
    {
     "name": "stdout",
     "output_type": "stream",
     "text": [
      "Uudiseid:  (200, 6)\n"
     ]
    }
   ],
   "source": [
    "#Väärinfo ja tõese info eristamine\n",
    "fake['target'] = 'fake'\n",
    "true['target'] = 'true'\n",
    "# andmestike ühendamine\n",
    "data = pd.concat([fake, true]).reset_index(drop = True)\n",
    "print(\"Uudiseid: \", data.shape)"
   ]
  },
  {
   "cell_type": "code",
   "execution_count": 4,
   "metadata": {},
   "outputs": [],
   "source": [
    "# Andmestiku segamine\n",
    "from sklearn.utils import shuffle\n",
    "data = shuffle(data)\n",
    "data = data.reset_index(drop=True)"
   ]
  },
  {
   "cell_type": "code",
   "execution_count": 5,
   "metadata": {},
   "outputs": [],
   "source": [
    "# Ebavajaliku info  (aeg, pealkiri) eemaldamine\n",
    "data.drop([\"date\"],axis=1,inplace=True)\n",
    "data.drop([\"title\"],axis=1,inplace=True)\n",
    "data.drop([\"subject\"],axis=1,inplace=True)\n",
    "data.drop([\"link\"],axis=1,inplace=True)"
   ]
  },
  {
   "cell_type": "code",
   "execution_count": 6,
   "metadata": {},
   "outputs": [],
   "source": [
    "data['text'] = data['text'].astype(str)"
   ]
  },
  {
   "cell_type": "markdown",
   "metadata": {},
   "source": [
    "Stoppsõnadena on kasutusel sidesõnad ja sidesõnad koos asesõnadega."
   ]
  },
  {
   "cell_type": "code",
   "execution_count": 7,
   "metadata": {},
   "outputs": [],
   "source": [
    "#https://et.wikipedia.org/wiki/Sides%C3%B5na\n",
    "#https://www.taskutark.ee/m/asesonad/\n",
    "#sidesõnad\n",
    "stopsõnad = ['ja', 'ning', 'ega', 'ehk', 'või', 'aga', 'kuid', 'ent', 'vaid', 'et', 'kui', 'kuna', 'sest', 'kuni', 'kuigi', \n",
    "             'ehkki', 'nagu', 'saati', 'elik', 'justkui', 'otsekui', 'seni']\n",
    "#sidesõnad ja asesõnad\n",
    "stopsõnad_uus = ['ja', 'ning', 'ega', 'ehk', 'või', 'aga', 'kuid', 'ent', 'vaid', 'et', 'kui', 'kuna', 'sest', 'kuni', 'kuigi', \n",
    "             'ehkki', 'nagu', 'saati', 'elik', 'justkui', 'otsekui', 'seni', 'siis', 'ka', 'nii', 'kas',\n",
    "             'mina', 'ma', 'meie', 'me', 'sina', 'sa', 'teie', 'te', 'tema', 'ta', 'nemad', 'nad',\n",
    "             'enese', 'enda', 'iseenese', 'iseenda', 'oma', 'üksteise', 'teineteise',\n",
    "             'see', 'too', 'sama', 'seesama', 'toosama', 'teine', 'muu',\n",
    "             'niisugune', 'samasugune', 'niisamasugune', 'selline', 'seesugune', 'säärane','säherdune', \n",
    "             'taoline', 'selletaoline', 'kes', 'mis', 'kumb', 'missugune', 'milline', 'misuke', 'mitu', 'mitmes', 'mitmendik',\n",
    "             'ise', 'oma', 'iga', 'igaüks', 'igamees', 'kõik', 'mõlemad', 'kumbki', 'emb-kumb', 'kogu', 'terve',\n",
    "             'keegi', 'miski', 'mingi', 'mingisugune', 'miskisugune', 'ükski', 'mitu', 'mitmes',\n",
    "             'mõni', 'mõningane', 'paljud', 'üks', 'teine', 'oma', 'enese', 'enda', 'omaenese', 'omaenda', 'iseoma', \n",
    "             'iseenese', 'iseenda', 'emb', 'mõlema', 'palju', '-']"
   ]
  },
  {
   "cell_type": "markdown",
   "metadata": {},
   "source": [
    "# Veamaatriks, segadusmaatriks (confusion matrix)"
   ]
  },
  {
   "cell_type": "markdown",
   "metadata": {},
   "source": [
    "Veamaatriks väljendab saadud mudeli headust. Maatriksi peadiagonaalil asetsevad kõik klassifikaatori pool õigesti ennustatud väärtused: õiged positiivsed, õiged negatiivsed. Kõik, mis jääb peadiagonaalilt välja, on väärad: vale positiivsed, vale negatiivsed. Mida rohkem õigeid negatiivseid ja õigeid positiivseid tulemusi, seda parem mudel. "
   ]
  },
  {
   "cell_type": "markdown",
   "metadata": {},
   "source": [
    "                  Väär  | õige negatiivne    | vale positiivne\n",
    "                  _______________________________________________          Tegelik märgend\n",
    "                  \n",
    "                  Tõene | vale negatiivne    | õige positiivne\n",
    "                  _______________________________________________\n",
    "                              Väär                Tõene\n",
    "                  \n",
    "                                Ennustatud märgend\n",
    "   \n",
    "                    "
   ]
  },
  {
   "cell_type": "markdown",
   "metadata": {},
   "source": [
    "Veamaatriksi visuaalne esitus"
   ]
  },
  {
   "cell_type": "code",
   "execution_count": 8,
   "metadata": {},
   "outputs": [],
   "source": [
    "# Veamaatriks (plot the confusion matrix)\n",
    "#https://scikit-learn.org/stable/auto_examples/model_selection/plot_confusion_matrix.html)\n",
    "from sklearn import metrics\n",
    "import itertools\n",
    "\n",
    "def plot_confusion_matrix(cm, classes,\n",
    "                          normalize=False,\n",
    "                          title='Veamaatriks',\n",
    "                          cmap=plt.cm.Blues):\n",
    "    \n",
    "    plt.imshow(cm, interpolation='nearest', cmap=cmap)\n",
    "    plt.title(title)\n",
    "    plt.colorbar()\n",
    "    tick_marks = np.arange(len(classes))\n",
    "    plt.xticks(tick_marks, classes, rotation=45)\n",
    "    plt.yticks(tick_marks, classes)\n",
    "\n",
    "    if normalize:\n",
    "        cm = cm.astype('float') / cm.sum(axis=1)[:, np.newaxis]\n",
    "        print(\"Normaliseeritud veamaatriks\")\n",
    "    else:\n",
    "        print('Normaliseerimata veamaatriks')\n",
    "\n",
    "    thresh = cm.max() / 2.\n",
    "    for i, j in itertools.product(range(cm.shape[0]), range(cm.shape[1])):\n",
    "        plt.text(j, i, cm[i, j],\n",
    "                 horizontalalignment=\"center\",\n",
    "                 color=\"white\" if cm[i, j] > thresh else \"black\")\n",
    "\n",
    "    plt.tight_layout()\n",
    "    \n",
    "    plt.ylabel('True label/Tõeline märgend')\n",
    "    plt.xlabel('Predicted label/Prognoositud märgend')"
   ]
  },
  {
   "cell_type": "markdown",
   "metadata": {},
   "source": [
    "# Andmete tükeldamine mudelite treenimiseks"
   ]
  },
  {
   "cell_type": "code",
   "execution_count": 9,
   "metadata": {},
   "outputs": [
    {
     "data": {
      "text/plain": [
       "(200, 2)"
      ]
     },
     "execution_count": 9,
     "metadata": {},
     "output_type": "execute_result"
    }
   ],
   "source": [
    "data.shape"
   ]
  },
  {
   "cell_type": "markdown",
   "metadata": {},
   "source": [
    "Andmed (200 uudisartiklit) jagatakse treenimisandmestikuks (70%) ja testandmestikuks (30%)."
   ]
  },
  {
   "cell_type": "code",
   "execution_count": 10,
   "metadata": {},
   "outputs": [],
   "source": [
    "# Andmete tükeldamine treenimisandmestikuks ja testandmestikuks\n",
    "X_train,X_test,y_train,y_test = train_test_split(data['text'], data.target, test_size=0.3, random_state=42)"
   ]
  },
  {
   "cell_type": "markdown",
   "metadata": {},
   "source": [
    "# Sõnade vektoresitused ja dokument-sõna maatriks"
   ]
  },
  {
   "cell_type": "markdown",
   "metadata": {},
   "source": [
    "Matemaatilistele meetoditele meeldivad struktureeritud arvandmed: vektorid ja maatriksid. Seetõttu tuleb enne statistiliste / masinõppe meetodite kasutuselevõtmist leida viis, kuidas \"teisendada\" oma tekstilised andmed arvandmeteks.\n",
    "\n",
    "Tekstide automaatsel klassifitseerimisel või klasterdamisel viiakse analüüsitava korpuse dokumendid vektorkujule ehk:\n",
    "\n",
    "luuakse iga korpuse sõna kohta vektor, mille iga positsioon kirjeldab sõna esinemist ühes korpuse dokumendis;\n",
    "kõigi sõnade vektoritest pannakse kokku maatriks, mille järgi saab leida nii üksiksõnade esinemismustreid kui ka dokumenti iseloomustava sõnavaramustri.\n",
    "Sarnasuste leidmisel tuginevadki statistilised meetodid maatriksile ning tekstide omadused, mis maatriksis ei kajastu (nt sõnade omavaheline järjekord, lausestus, süntaks vms) tulemust otseselt ka ei mõjuta. \n",
    "\n",
    "Klass CountVectorizer võimaldab luua sõnavektoreid, mille iga positsioon kirjeldab sõna esinemissagedust ühes dokumendis. Klassi initsialiseerimisel on võimalik täpsustada mitmeid teksti eeltöötluse samme, nt kas sõnad tuleks teisendada väiketähelisteks (vaikimisi: jah), kuidas (millise meetodi abil) jagada tekst sõnadeks ning millised sõnad on nn stopp-sõnad, mis tuleks välja jätta.\n",
    "\n",
    "TfidfVectorizer kasutab sõnasageduste asemel TF-IDF-skoori, mis näitab, kuivõrd iseloomulik on sõna mingile tekstile korpuses. TF (term frequency) on sõna esinemissagedus tekstis, IDF (inverse document frequency) kajastab seda, kui paljudes korpuse dokumentides see sõna üldse esineb, TF-IDF on nende korrutis.\n",
    "\n",
    "(Tartu Ülikooli õppeaine Eesti keele töötlus Pythonis materjal)"
   ]
  },
  {
   "cell_type": "markdown",
   "metadata": {},
   "source": [
    "## Eesti keele sõnestusvahendid"
   ]
  },
  {
   "cell_type": "markdown",
   "metadata": {},
   "source": [
    "Teksti sõnestamine kasutades eesti keele sõnestusvahendeid. Seega loome meetodi, mis saab sisendiks sõne, sõnestab selle EstNLTK abil ning tagastab sõnade järjendi. Ning CountVectorizer-i loomisel täpsustame, et sõnestamiseks tuleks kasutada just seda meetodit. \n",
    "(Eesti keele töötlus Pythonis materjal)"
   ]
  },
  {
   "cell_type": "code",
   "execution_count": 11,
   "metadata": {},
   "outputs": [],
   "source": [
    "from estnltk import Text\n",
    "\n",
    "# Meetodid teksti sõnestamiseks estnltk abil\n",
    "def tokenize_with_estnltk( input_string ):\n",
    "    return Text(input_string).tag_layer(['words']).words.text\n",
    "\n",
    "def lemmatize_with_estnltk(input_string):\n",
    "    lemma = Text(input_string).tag_layer(['morph_analysis']).lemma\n",
    "    # https://stackoverflow.com/questions/11264684/flatten-list-of-lists/11264799\n",
    "    flattened  = [val for sublist in lemma for val in sublist]\n",
    "    return flattened"
   ]
  },
  {
   "cell_type": "markdown",
   "metadata": {},
   "source": [
    "# Mudelid"
   ]
  },
  {
   "cell_type": "markdown",
   "metadata": {},
   "source": [
    "Andmete peal katsetati nelja juhendatud masinõppemeetodit. \n",
    "\n",
    "Pipeline'i on ühendatud eeltöötluse sammud: vektoriseerimine, teisendamine ja klassifitseerimine. Mudelite katsetamisel saab muuta sõnestajat, stoppsõnade loetelu ja teisi parameetreid. Mudeli headust hinnatakse täpsusmäära (accuracy) abil. Täpsusmäär näitab, milline oli õigete ennustuste osakaal kõikidest ennustustest."
   ]
  },
  {
   "cell_type": "markdown",
   "metadata": {},
   "source": [
    "Tekstid mudelite testimiseks"
   ]
  },
  {
   "cell_type": "code",
   "execution_count": 12,
   "metadata": {},
   "outputs": [],
   "source": [
    "txt1 = ['Maa on lame!']\n",
    "txt2 = ['Maailma valitsevad ja juhivad kaugest galaktikast pärit roomajad. Nendel roomajatel on arvatavalt võime võtta inimkuju. Nad on Maa sisemuses asuvate jumalate rass ja nad on tulnud valguse kätte selleks, et Maad valitseda. Neid roomajaid on väga vähe, seepärast võtavadki nad meie planeedi oma kontrolli alla aeglaselt ja salaja.']\n",
    "txt3 = ['Globaalne soojenemine on jama. Selle teooria pooldajad väidavad, et teadlastel ei ole tõendeid selle kohta, et inimesed on põhjapooluse sulamise ja globaalse soojenemise peamine põhjus. Arvatakse, et teadlased on selle väite välja mõtelnud, et saada rohkem raha, mida siis oma vajadusteks kulutada, lastes paista, et nad otsivad lahendust atmosfääri soojenemise takistamiseks.']\n",
    "# lõik president Kaljulaidi kõnest Eesti Arktika Nõukogu vaatlejaliikme taotluse tutvustusüritusel\n",
    "txt4 = ['Arktika on meie planeedi kõige kiiremini soojenev ala. Põhja-Jäämere triivjää sulab kiiresti. Tänapäeval ei saa me enam öelda, et Arktika soojeneb umbes kaks korda kiiremini kui terve maailm. See soojeneb juba maailmast kolm korda ja kohati veelgi kiiremini. 2020. aasta ei ole erand.']\n",
    "txt5 = ['Tartu asub Emajõe kaldal.']\n",
    "# FOTOD | Täna jõudis Eestisse teine partii koroonavaktsiini Delfi 04.01.2021\n",
    "txt6 = [\"\"\"Möödunud kuul sai Eesti esimese partii Pfizeri/BioNTechi koroonavaktsiini. \"Täna saame lisaks 9750 vaktsiinidoosi. Edasi on kokku lepitud, et kogused kasvavad - iga nädal peaksime saama suurusjärgus 11 000-12 000 doosi. Mõnel juhul isegi rohkem,\" ütles Kiik. Täpsemalt ministri sõnul praegu rääkida ei saa, sest kõik sõltub vaktsiinitootja võimekusest.\n",
    "Kuna näiteks Taani, Soome, aga ka Leedu on saanud Eestist suuremad kogused vaktsiini varem kätte, siis on tekkinud küsimus Pfizeri/BioNTechi tootmis- ja tarnimisraskustest.\n",
    "Näiteks täna hommikul tuli Leedu Delfi teatel riiki järjekordne, kolmas saadetis Saksamaalt, 20 000 vaktsiinidoosi.\n",
    "Kiik selgitas, et koguste erinevus sõltub sellest, et algselt said riigid esimesed doosid võrdselt ja järgmised kogused tulevad lähtuvalt rahvaarvust. Lisaks on Kiige sõnul käimas läbirääkimised tootmisüksuste loomiseks Euroopa pinnale, mis aitaks Pfizer/BioNTechil senisest kiiremini täita olemasolevaid kokkuleppeid ja ka võimalikke uusi lepinguid, kui olukord peaks muutuma.\"\"\"]\n",
    "txt7 = ['Koroonaviirust pole olemas, see on valitsuste väljamõeldis inimeste orjastamiseks.']"
   ]
  },
  {
   "cell_type": "markdown",
   "metadata": {},
   "source": [
    "### Logistiline regressioon (Logistic regression)"
   ]
  },
  {
   "cell_type": "markdown",
   "metadata": {},
   "source": [
    "Uudiste tekstide vektoriseerimisel kasutati eeltöötluseks sõnade lemmatiseerimist ja stoppsõnadena asesõnu ning sidesõnu."
   ]
  },
  {
   "cell_type": "code",
   "execution_count": 13,
   "metadata": {},
   "outputs": [
    {
     "name": "stdout",
     "output_type": "stream",
     "text": [
      "Logistilise regressiooni mudeli ennustustäpsus: 73.33%\n",
      "Tekst:  ['Maa on lame!']\n",
      "fake\n",
      "Tekst:  ['Maailma valitsevad ja juhivad kaugest galaktikast pärit roomajad. Nendel roomajatel on arvatavalt võime võtta inimkuju. Nad on Maa sisemuses asuvate jumalate rass ja nad on tulnud valguse kätte selleks, et Maad valitseda. Neid roomajaid on väga vähe, seepärast võtavadki nad meie planeedi oma kontrolli alla aeglaselt ja salaja.']\n",
      "true\n",
      "Tekst:  ['Globaalne soojenemine on jama. Selle teooria pooldajad väidavad, et teadlastel ei ole tõendeid selle kohta, et inimesed on põhjapooluse sulamise ja globaalse soojenemise peamine põhjus. Arvatakse, et teadlased on selle väite välja mõtelnud, et saada rohkem raha, mida siis oma vajadusteks kulutada, lastes paista, et nad otsivad lahendust atmosfääri soojenemise takistamiseks.']\n",
      "fake\n",
      "Tekst:  ['Arktika on meie planeedi kõige kiiremini soojenev ala. Põhja-Jäämere triivjää sulab kiiresti. Tänapäeval ei saa me enam öelda, et Arktika soojeneb umbes kaks korda kiiremini kui terve maailm. See soojeneb juba maailmast kolm korda ja kohati veelgi kiiremini. 2020. aasta ei ole erand.']\n",
      "true\n",
      "Tekst:  ['Tartu asub Emajõe kaldal.']\n",
      "true\n",
      "Tekst:  ['Möödunud kuul sai Eesti esimese partii Pfizeri/BioNTechi koroonavaktsiini. \"Täna saame lisaks 9750 vaktsiinidoosi. Edasi on kokku lepitud, et kogused kasvavad - iga nädal peaksime saama suurusjärgus 11 000-12 000 doosi. Mõnel juhul isegi rohkem,\" ütles Kiik. Täpsemalt ministri sõnul praegu rääkida ei saa, sest kõik sõltub vaktsiinitootja võimekusest.\\nKuna näiteks Taani, Soome, aga ka Leedu on saanud Eestist suuremad kogused vaktsiini varem kätte, siis on tekkinud küsimus Pfizeri/BioNTechi tootmis- ja tarnimisraskustest.\\nNäiteks täna hommikul tuli Leedu Delfi teatel riiki järjekordne, kolmas saadetis Saksamaalt, 20 000 vaktsiinidoosi.\\nKiik selgitas, et koguste erinevus sõltub sellest, et algselt said riigid esimesed doosid võrdselt ja järgmised kogused tulevad lähtuvalt rahvaarvust. Lisaks on Kiige sõnul käimas läbirääkimised tootmisüksuste loomiseks Euroopa pinnale, mis aitaks Pfizer/BioNTechil senisest kiiremini täita olemasolevaid kokkuleppeid ja ka võimalikke uusi lepinguid, kui olukord peaks muutuma.']\n",
      "true\n",
      "Tekst:  ['Koroonaviirust pole olemas, see on valitsuste väljamõeldis inimeste orjastamiseks.']\n",
      "fake\n",
      "Normaliseerimata veamaatriks\n"
     ]
    },
    {
     "data": {
      "image/png": "[encoded data removed]",
      "text/plain": [
       "<Figure size 432x288 with 2 Axes>"
      ]
     },
     "metadata": {
      "needs_background": "light"
     },
     "output_type": "display_data"
    }
   ],
   "source": [
    "# Vektoriseerimine ja TF-IDF rakendamine\n",
    "from sklearn.linear_model import LogisticRegression\n",
    "\n",
    "pipe = Pipeline([('vect', CountVectorizer(tokenizer = lemmatize_with_estnltk, stop_words = stopsõnad_uus)),\n",
    "                 ('tfidf', TfidfTransformer()),\n",
    "                 ('model', LogisticRegression())])\n",
    "\n",
    "# Mudeli sobitamine\n",
    "model = pipe.fit(X_train, y_train)\n",
    "\n",
    "# Prognoosimine\n",
    "prediction = model.predict(X_test)\n",
    "print(\"Logistilise regressiooni mudeli ennustustäpsus: {}%\".format(round(accuracy_score(y_test, prediction)*100,2)))\n",
    "\n",
    "cm = metrics.confusion_matrix(y_test, prediction)\n",
    "\n",
    "print(\"Tekst: \", txt1)\n",
    "print(model.predict(txt1)[0])\n",
    "print(\"Tekst: \", txt2)\n",
    "print(model.predict(txt2)[0])\n",
    "print(\"Tekst: \", txt3)\n",
    "print(model.predict(txt3)[0])\n",
    "print(\"Tekst: \", txt4)\n",
    "print(model.predict(txt4)[0])\n",
    "print(\"Tekst: \", txt5)\n",
    "print(model.predict(txt5)[0])\n",
    "print(\"Tekst: \", txt6)\n",
    "print(model.predict(txt6)[0])\n",
    "print(\"Tekst: \", txt7)\n",
    "print(model.predict(txt7)[0])\n",
    "\n",
    "plot_confusion_matrix(cm, classes=['Väär', 'Tõene'])"
   ]
  },
  {
   "cell_type": "markdown",
   "metadata": {},
   "source": [
    "### Difference from here"
   ]
  },
  {
   "cell_type": "code",
   "execution_count": 14,
   "metadata": {},
   "outputs": [
    {
     "data": {
      "text/plain": [
       "169    1\n",
       "97     0\n",
       "31     0\n",
       "12     1\n",
       "35     0\n",
       "Name: target, dtype: int64"
      ]
     },
     "execution_count": 14,
     "metadata": {},
     "output_type": "execute_result"
    }
   ],
   "source": [
    "conversion = {\n",
    "    \"true\": 1,\n",
    "    \"fake\": 0\n",
    "}\n",
    "y_train = y_train.map(conversion)\n",
    "y_test = y_test.map(conversion)\n",
    "y_train[:5]"
   ]
  },
  {
   "cell_type": "code",
   "execution_count": 15,
   "metadata": {},
   "outputs": [],
   "source": [
    "# TF-IDF vektoriseerija rakendamine\n",
    "tfidf_vectorizer=TfidfVectorizer(tokenizer = lemmatize_with_estnltk, stop_words = stopsõnad_uus)\n",
    "\n",
    "# fit and transform train set, transform test set\n",
    "tfidf_train=tfidf_vectorizer.fit_transform(X_train)\n",
    "tfidf_test=tfidf_vectorizer.transform(X_test)"
   ]
  },
  {
   "cell_type": "code",
   "execution_count": 16,
   "metadata": {},
   "outputs": [
    {
     "name": "stdout",
     "output_type": "stream",
     "text": [
      "[20:22:01] WARNING: /home/conda/feedstock_root/build_artifacts/xgboost_1607604574104/work/src/learner.cc:1061: Starting in XGBoost 1.3.0, the default evaluation metric used with the objective 'binary:logistic' was changed from 'error' to 'logloss'. Explicitly set eval_metric if you'd like to restore the old behavior.\n",
      "xgboost mudeli ennustustäpsus: 70.0%\n",
      "PAC mudeli ennustustäpsus: 76.67%\n",
      "RF mudeli ennustustäpsus: 68.33%\n",
      "SVC mudeli ennustustäpsus: 73.33%\n"
     ]
    }
   ],
   "source": [
    "# just out of curiosity. Results are not so good. \n",
    "from xgboost import XGBClassifier\n",
    "from sklearn.linear_model import PassiveAggressiveClassifier\n",
    "from sklearn.ensemble import RandomForestClassifier\n",
    "from sklearn.svm import SVC\n",
    "\n",
    "models = {\n",
    "    \"xgboost\": XGBClassifier(use_label_encoder=False),\n",
    "    \"PAC\": PassiveAggressiveClassifier(),\n",
    "    \"RF\": RandomForestClassifier(),\n",
    "    \"SVC\": SVC()\n",
    "}\n",
    "\n",
    "for name, model in models.items():\n",
    "    model.fit(tfidf_train, y_train.values)\n",
    "\n",
    "    # Prognoosimine\n",
    "    prediction = model.predict(tfidf_test)\n",
    "    print(f\"{name} mudeli ennustustäpsus: {round(accuracy_score(y_test.values, prediction)*100,2)}%\")"
   ]
  },
  {
   "cell_type": "code",
   "execution_count": 17,
   "metadata": {},
   "outputs": [
    {
     "name": "stderr",
     "output_type": "stream",
     "text": [
      "/home/hiroki/anaconda3/envs/anne/lib/python3.7/site-packages/tensorflow/python/framework/dtypes.py:516: FutureWarning: Passing (type, 1) or '1type' as a synonym of type is deprecated; in a future version of numpy, it will be understood as (type, (1,)) / '(1,)type'.\n",
      "  _np_qint8 = np.dtype([(\"qint8\", np.int8, 1)])\n",
      "/home/hiroki/anaconda3/envs/anne/lib/python3.7/site-packages/tensorflow/python/framework/dtypes.py:517: FutureWarning: Passing (type, 1) or '1type' as a synonym of type is deprecated; in a future version of numpy, it will be understood as (type, (1,)) / '(1,)type'.\n",
      "  _np_quint8 = np.dtype([(\"quint8\", np.uint8, 1)])\n",
      "/home/hiroki/anaconda3/envs/anne/lib/python3.7/site-packages/tensorflow/python/framework/dtypes.py:518: FutureWarning: Passing (type, 1) or '1type' as a synonym of type is deprecated; in a future version of numpy, it will be understood as (type, (1,)) / '(1,)type'.\n",
      "  _np_qint16 = np.dtype([(\"qint16\", np.int16, 1)])\n",
      "/home/hiroki/anaconda3/envs/anne/lib/python3.7/site-packages/tensorflow/python/framework/dtypes.py:519: FutureWarning: Passing (type, 1) or '1type' as a synonym of type is deprecated; in a future version of numpy, it will be understood as (type, (1,)) / '(1,)type'.\n",
      "  _np_quint16 = np.dtype([(\"quint16\", np.uint16, 1)])\n",
      "/home/hiroki/anaconda3/envs/anne/lib/python3.7/site-packages/tensorflow/python/framework/dtypes.py:520: FutureWarning: Passing (type, 1) or '1type' as a synonym of type is deprecated; in a future version of numpy, it will be understood as (type, (1,)) / '(1,)type'.\n",
      "  _np_qint32 = np.dtype([(\"qint32\", np.int32, 1)])\n",
      "/home/hiroki/anaconda3/envs/anne/lib/python3.7/site-packages/tensorflow/python/framework/dtypes.py:525: FutureWarning: Passing (type, 1) or '1type' as a synonym of type is deprecated; in a future version of numpy, it will be understood as (type, (1,)) / '(1,)type'.\n",
      "  np_resource = np.dtype([(\"resource\", np.ubyte, 1)])\n",
      "/home/hiroki/anaconda3/envs/anne/lib/python3.7/site-packages/tensorboard/compat/tensorflow_stub/dtypes.py:541: FutureWarning: Passing (type, 1) or '1type' as a synonym of type is deprecated; in a future version of numpy, it will be understood as (type, (1,)) / '(1,)type'.\n",
      "  _np_qint8 = np.dtype([(\"qint8\", np.int8, 1)])\n",
      "/home/hiroki/anaconda3/envs/anne/lib/python3.7/site-packages/tensorboard/compat/tensorflow_stub/dtypes.py:542: FutureWarning: Passing (type, 1) or '1type' as a synonym of type is deprecated; in a future version of numpy, it will be understood as (type, (1,)) / '(1,)type'.\n",
      "  _np_quint8 = np.dtype([(\"quint8\", np.uint8, 1)])\n",
      "/home/hiroki/anaconda3/envs/anne/lib/python3.7/site-packages/tensorboard/compat/tensorflow_stub/dtypes.py:543: FutureWarning: Passing (type, 1) or '1type' as a synonym of type is deprecated; in a future version of numpy, it will be understood as (type, (1,)) / '(1,)type'.\n",
      "  _np_qint16 = np.dtype([(\"qint16\", np.int16, 1)])\n",
      "/home/hiroki/anaconda3/envs/anne/lib/python3.7/site-packages/tensorboard/compat/tensorflow_stub/dtypes.py:544: FutureWarning: Passing (type, 1) or '1type' as a synonym of type is deprecated; in a future version of numpy, it will be understood as (type, (1,)) / '(1,)type'.\n",
      "  _np_quint16 = np.dtype([(\"quint16\", np.uint16, 1)])\n",
      "/home/hiroki/anaconda3/envs/anne/lib/python3.7/site-packages/tensorboard/compat/tensorflow_stub/dtypes.py:545: FutureWarning: Passing (type, 1) or '1type' as a synonym of type is deprecated; in a future version of numpy, it will be understood as (type, (1,)) / '(1,)type'.\n",
      "  _np_qint32 = np.dtype([(\"qint32\", np.int32, 1)])\n",
      "/home/hiroki/anaconda3/envs/anne/lib/python3.7/site-packages/tensorboard/compat/tensorflow_stub/dtypes.py:550: FutureWarning: Passing (type, 1) or '1type' as a synonym of type is deprecated; in a future version of numpy, it will be understood as (type, (1,)) / '(1,)type'.\n",
      "  np_resource = np.dtype([(\"resource\", np.ubyte, 1)])\n"
     ]
    }
   ],
   "source": [
    "import tensorflow as tf\n",
    "from tensorflow.keras import initializers\n",
    "tf.get_logger().setLevel('INFO')\n",
    "\n",
    "def make_model(input_shape, output_bias=None):\n",
    "    if output_bias is not None:\n",
    "        output_bias = tf.keras.initializers.Constant(output_bias)\n",
    "    model = tf.keras.Sequential([\n",
    "        tf.keras.layers.Dense(\n",
    "              2048, activation='relu',\n",
    "              input_shape=(input_shape,),\n",
    "              kernel_initializer=initializers.RandomNormal(stddev=0.01),\n",
    "              bias_initializer=initializers.Zeros()),\n",
    "        tf.keras.layers.Dropout(0.5),\n",
    "        tf.keras.layers.Dense(\n",
    "              256, activation='relu',\n",
    "              kernel_initializer=initializers.RandomNormal(stddev=0.01),\n",
    "              bias_initializer=initializers.Zeros()),\n",
    "        tf.keras.layers.Dropout(0.5),\n",
    "        tf.keras.layers.Dense(\n",
    "              16, activation='relu',\n",
    "              kernel_initializer=initializers.RandomNormal(stddev=0.01),\n",
    "              bias_initializer=initializers.Zeros()),\n",
    "        tf.keras.layers.Dropout(0.5),\n",
    "        tf.keras.layers.Dense(1, activation='sigmoid'),\n",
    "    ])\n",
    "\n",
    "    model.compile(\n",
    "        optimizer=tf.keras.optimizers.Adam(lr=1e-3),\n",
    "        loss=tf.keras.losses.BinaryCrossentropy(from_logits=True),\n",
    "        metrics=['binary_accuracy'])\n",
    "\n",
    "    return model"
   ]
  },
  {
   "cell_type": "code",
   "execution_count": 18,
   "metadata": {},
   "outputs": [
    {
     "name": "stdout",
     "output_type": "stream",
     "text": [
      "WARNING:deprecation.py:506: From /home/hiroki/anaconda3/envs/anne/lib/python3.7/site-packages/tensorflow/python/keras/initializers.py:143: calling RandomNormal.__init__ (from tensorflow.python.ops.init_ops) with dtype is deprecated and will be removed in a future version.\n",
      "Instructions for updating:\n",
      "Call initializer instance with the dtype argument instead of passing it to the constructor\n",
      "WARNING:deprecation.py:506: From /home/hiroki/anaconda3/envs/anne/lib/python3.7/site-packages/tensorflow/python/ops/init_ops.py:1251: calling VarianceScaling.__init__ (from tensorflow.python.ops.init_ops) with dtype is deprecated and will be removed in a future version.\n",
      "Instructions for updating:\n",
      "Call initializer instance with the dtype argument instead of passing it to the constructor\n",
      "WARNING:deprecation.py:323: From /home/hiroki/anaconda3/envs/anne/lib/python3.7/site-packages/tensorflow/python/ops/nn_impl.py:180: add_dispatch_support.<locals>.wrapper (from tensorflow.python.ops.array_ops) is deprecated and will be removed in a future version.\n",
      "Instructions for updating:\n",
      "Use tf.where in 2.0, which has the same broadcast rule as np.where\n",
      "Model: \"sequential\"\n",
      "_________________________________________________________________\n",
      "Layer (type)                 Output Shape              Param #   \n",
      "=================================================================\n",
      "dense (Dense)                (None, 2048)              206848    \n",
      "_________________________________________________________________\n",
      "dropout (Dropout)            (None, 2048)              0         \n",
      "_________________________________________________________________\n",
      "dense_1 (Dense)              (None, 256)               524544    \n",
      "_________________________________________________________________\n",
      "dropout_1 (Dropout)          (None, 256)               0         \n",
      "_________________________________________________________________\n",
      "dense_2 (Dense)              (None, 16)                4112      \n",
      "_________________________________________________________________\n",
      "dropout_2 (Dropout)          (None, 16)                0         \n",
      "_________________________________________________________________\n",
      "dense_3 (Dense)              (None, 1)                 17        \n",
      "=================================================================\n",
      "Total params: 735,521\n",
      "Trainable params: 735,521\n",
      "Non-trainable params: 0\n",
      "_________________________________________________________________\n"
     ]
    }
   ],
   "source": [
    "EPOCHS = 50\n",
    "BATCH_SIZE = 8\n",
    "\n",
    "early_stopping = tf.keras.callbacks.EarlyStopping(\n",
    "    monitor='val_binary_accuracy', \n",
    "    verbose=1,\n",
    "    patience=10,\n",
    "    mode='max',\n",
    "    restore_best_weights=True)\n",
    "\n",
    "model = make_model(100)\n",
    "model.summary()"
   ]
  },
  {
   "cell_type": "code",
   "execution_count": 19,
   "metadata": {},
   "outputs": [
    {
     "name": "stdout",
     "output_type": "stream",
     "text": [
      "Restoring model weights from the end of the best epoch.\n",
      "Epoch 00017: early stopping\n",
      "20/20 [==============================] - 0s 423us/sample - loss: 0.5341 - binary_accuracy: 0.9500\n",
      "Restoring model weights from the end of the best epoch.\n",
      "Epoch 00014: early stopping\n",
      "20/20 [==============================] - 0s 416us/sample - loss: 0.5836 - binary_accuracy: 0.9000\n",
      "Restoring model weights from the end of the best epoch.\n",
      "Epoch 00024: early stopping\n",
      "20/20 [==============================] - 0s 559us/sample - loss: 0.5319 - binary_accuracy: 0.9500\n",
      "Restoring model weights from the end of the best epoch.\n",
      "Epoch 00014: early stopping\n",
      "20/20 [==============================] - 0s 396us/sample - loss: 0.5851 - binary_accuracy: 0.9500\n",
      "Restoring model weights from the end of the best epoch.\n",
      "Epoch 00014: early stopping\n",
      "20/20 [==============================] - 0s 412us/sample - loss: 0.5983 - binary_accuracy: 0.8000\n",
      "Restoring model weights from the end of the best epoch.\n",
      "Epoch 00015: early stopping\n",
      "20/20 [==============================] - 0s 435us/sample - loss: 0.5554 - binary_accuracy: 0.9500\n",
      "Restoring model weights from the end of the best epoch.\n",
      "Epoch 00015: early stopping\n",
      "20/20 [==============================] - 0s 526us/sample - loss: 0.5424 - binary_accuracy: 0.9500\n",
      "Restoring model weights from the end of the best epoch.\n",
      "Epoch 00014: early stopping\n",
      "20/20 [==============================] - 0s 386us/sample - loss: 0.5644 - binary_accuracy: 0.8500\n",
      "Restoring model weights from the end of the best epoch.\n",
      "Epoch 00014: early stopping\n",
      "20/20 [==============================] - 0s 411us/sample - loss: 0.5546 - binary_accuracy: 0.9000\n",
      "Restoring model weights from the end of the best epoch.\n",
      "Epoch 00014: early stopping\n",
      "20/20 [==============================] - 0s 404us/sample - loss: 0.5754 - binary_accuracy: 0.8500\n",
      "Mudelite täpsused:  [0.95 0.9  0.95 0.95 0.8  0.95 0.95 0.85 0.9  0.85]\n",
      "Mudeli keskmine täpsus (accuracy):  90.5 %\n"
     ]
    }
   ],
   "source": [
    "from sklearn.model_selection import StratifiedKFold\n",
    "\n",
    "X, y = data['text'], data['target']\n",
    "metrics = []\n",
    "\n",
    "skf = StratifiedKFold(n_splits=10)\n",
    "i = 0\n",
    "for train_index, test_index in skf.split(X, y):\n",
    "    X_train, X_test = X[train_index], X[test_index]\n",
    "    y_train, y_test = y[train_index], y[test_index]\n",
    "    y_train = y_train.map(conversion)\n",
    "    y_test = y_test.map(conversion)\n",
    "\n",
    "    tfidf_vectorizer=TfidfVectorizer(tokenizer = lemmatize_with_estnltk, stop_words = stopsõnad_uus)\n",
    "    \n",
    "    X_train_dtm = tfidf_vectorizer.fit_transform(X_train)\n",
    "    X_test_dtm = tfidf_vectorizer.transform(X_test)\n",
    "    model = make_model(X_train_dtm.shape[-1])\n",
    "    model.fit(\n",
    "        X_train_dtm,\n",
    "        y_train,\n",
    "        batch_size=BATCH_SIZE,\n",
    "        epochs=EPOCHS,\n",
    "        callbacks = [early_stopping],\n",
    "        verbose=0,\n",
    "        validation_data=(X_test_dtm, y_test))\n",
    "\n",
    "    metrics.append(model.evaluate(X_test_dtm, y_test)[1])\n",
    "\n",
    "\n",
    "metrics = np.array(metrics)\n",
    "print('Mudelite täpsused: ', metrics)\n",
    "print('Mudeli keskmine täpsus (accuracy): ', round(np.mean(metrics, axis=0)*100,2), \"%\")"
   ]
  },
  {
   "cell_type": "code",
   "execution_count": 21,
   "metadata": {},
   "outputs": [
    {
     "name": "stdout",
     "output_type": "stream",
     "text": [
      "DNN mudeli ennustustäpsus: 85.0%\n"
     ]
    }
   ],
   "source": [
    "# for prediction, using the last model\n",
    "pred = [1 if pred>0.5 else 0 for pred in model.predict(X_test_dtm)]\n",
    "print(f\"DNN mudeli ennustustäpsus: {round(accuracy_score(y_test.values, pred)*100,2)}%\")"
   ]
  },
  {
   "cell_type": "code",
   "execution_count": 22,
   "metadata": {},
   "outputs": [
    {
     "name": "stdout",
     "output_type": "stream",
     "text": [
      "Mudelite täpsused:  [0.85 0.75 0.95 0.8  0.85 0.85 0.8  0.75 0.9  0.85]\n",
      "Mudeli keskmine täpsus (accuracy):  83.5 %\n"
     ]
    }
   ],
   "source": [
    "# Passiiv-agressiiv mudel 10-kordsel ristvalideerimisel\n",
    "\n",
    "X, y = data['text'], data['target']\n",
    "metrics = []\n",
    "\n",
    "skf = StratifiedKFold(n_splits=10)\n",
    "for train_index, test_index in skf.split(X, y):\n",
    "    X_train, X_test = X[train_index], X[test_index]\n",
    "    y_train, y_test = y[train_index], y[test_index]\n",
    "\n",
    "    tfidf_vectorizer=TfidfVectorizer(tokenizer = lemmatize_with_estnltk, stop_words = stopsõnad_uus)\n",
    "    \n",
    "    X_train_dtm = tfidf_vectorizer.fit_transform(X_train)\n",
    "    X_test_dtm = tfidf_vectorizer.transform(X_test)\n",
    "    pac=PassiveAggressiveClassifier(max_iter=50)\n",
    "    pac.fit(X_train_dtm, y_train)\n",
    "    y_pred_class = pac.predict(X_test_dtm)\n",
    "\n",
    "    metrics.append(accuracy_score(y_test, y_pred_class))\n",
    "\n",
    "metrics = np.array(metrics)\n",
    "print('Mudelite täpsused: ', metrics)\n",
    "print('Mudeli keskmine täpsus (accuracy): ', round(np.mean(metrics, axis=0)*100,2), \"%\")"
   ]
  },
  {
   "cell_type": "code",
   "execution_count": null,
   "metadata": {},
   "outputs": [],
   "source": []
  }
 ],
 "metadata": {
  "kernelspec": {
   "display_name": "Python 3",
   "language": "python",
   "name": "python3"
  },
  "language_info": {
   "codemirror_mode": {
    "name": "ipython",
    "version": 3
   },
   "file_extension": ".py",
   "mimetype": "text/x-python",
   "name": "python",
   "nbconvert_exporter": "python",
   "pygments_lexer": "ipython3",
   "version": "3.7.9"
  }
 },
 "nbformat": 4,
 "nbformat_minor": 4
}
