{
 "cells": [
  {
   "cell_type": "markdown",
   "metadata": {},
   "source": [
    "# 07 Väärinfo mudelid"
   ]
  },
  {
   "cell_type": "markdown",
   "metadata": {},
   "source": [
    "Inspiratsioon ja algallikad:\n",
    "1. Fake news detector\n",
    "https://www.kaggle.com/rodolfoluna/fake-news-detector\n",
    "2. Fake and real news dataset\n",
    "https://www.kaggle.com/clmentbisaillon/fake-and-real-news-dataset\n",
    "3. https://github.com/DARIAH-DE/tatom/tree/develop/source\n",
    "4. Classification of text documents using sparse features\n",
    "https://scikit-learn.org/stable/auto_examples/text/plot_document_classification_20newsgroups.html\n",
    "5. KNN Classification using Scikit-learn\n",
    "https://www.datacamp.com/community/tutorials/k-nearest-neighbor-classification-scikit-learn?utm_source=adwords_ppc&utm_campaignid=898687156&utm_adgroupid=48947256715&utm_device=c&utm_keyword=&utm_matchtype=b&utm_network=g&utm_adpostion=&utm_creative=332602034349&utm_targetid=aud-299261629574:dsa-429603003980&utm_loc_interest_ms=&utm_loc_physical_ms=9061567&gclid=CjwKCAiA-_L9BRBQEiwA-bm5fmXHZ5wjftR4hIRqhltZGr54molVq8Rf41i21I7aOOhgxu9MTO2FhBoCfSQQAvD_BwE\n",
    "6. Text classification using K Nearest Neighbors (KNN)\n",
    "https://iq.opengenus.org/text-classification-using-k-nearest-neighbors/\n",
    "7. Text Classification with Python and Scikit-Learn\n",
    "https://stackabuse.com/text-classification-with-python-and-scikit-learn/\n",
    "8. Advanced Python Project – Detecting Fake News with Python (PassiveAggressiveClassifier)\n",
    "https://data-flair.training/blogs/advanced-python-project-detecting-fake-news/\n",
    "9. How to Use Tfidftransformer & Tfidfvectorizer?\n",
    "https://kavita-ganesan.com/tfidftransformer-tfidfvectorizer-usage-differences/#.X9EGg2gzZPZ\n",
    "10. Latent Dirichlet Allocation\n",
    "https://radimrehurek.com/gensim/models/ldamodel.html\n",
    "11. How Naive Bayes Algorithm Works? (with example and full code)\n",
    "https://www.machinelearningplus.com/predictive-modeling/how-naive-bayes-algorithm-works-with-example-and-full-code/#9buildingnaivebayesclassifierinpython"
   ]
  },
  {
   "cell_type": "code",
   "execution_count": 1,
   "metadata": {},
   "outputs": [],
   "source": [
    "import pandas as pd\n",
    "import numpy as np\n",
    "import matplotlib.pyplot as plt\n",
    "from wordcloud import WordCloud\n",
    "from estnltk import Text\n",
    "from tqdm import tqdm\n",
    "import re\n",
    "from estnltk.wordnet import Wordnet\n",
    "import seaborn as sns\n",
    "from gensim.models import Word2Vec\n",
    "from sklearn.feature_extraction.text import CountVectorizer\n",
    "from sklearn.feature_extraction.text import TfidfTransformer\n",
    "from sklearn import feature_extraction, linear_model, model_selection, preprocessing\n",
    "from sklearn.metrics import accuracy_score\n",
    "from sklearn.model_selection import train_test_split\n",
    "from sklearn.pipeline import Pipeline"
   ]
  },
  {
   "cell_type": "code",
   "execution_count": 2,
   "metadata": {
    "scrolled": true
   },
   "outputs": [
    {
     "name": "stdout",
     "output_type": "stream",
     "text": [
      "Valeuudiseid:  (100, 5)\n",
      "Tõeseid uudiseid:  (100, 5)\n"
     ]
    }
   ],
   "source": [
    "fake = pd.read_csv(\"fake.csv\")\n",
    "true = pd.read_csv(\"true.csv\")\n",
    "print(\"Valeuudiseid: \", fake.shape)\n",
    "print(\"Tõeseid uudiseid: \", true.shape)"
   ]
  },
  {
   "cell_type": "code",
   "execution_count": 88,
   "metadata": {},
   "outputs": [
    {
     "name": "stdout",
     "output_type": "stream",
     "text": [
      "Uudiseid:  (200, 6)\n"
     ]
    }
   ],
   "source": [
    "#Väärinfo ja tõese info eristamine\n",
    "fake['target'] = 'fake'\n",
    "true['target'] = 'true'\n",
    "# andmestike ühendamine\n",
    "data = pd.concat([fake, true]).reset_index(drop = True)\n",
    "print(\"Uudiseid: \", data.shape)"
   ]
  },
  {
   "cell_type": "code",
   "execution_count": 89,
   "metadata": {},
   "outputs": [],
   "source": [
    "# Andmestiku segamine\n",
    "from sklearn.utils import shuffle\n",
    "data = shuffle(data)\n",
    "data = data.reset_index(drop=True)"
   ]
  },
  {
   "cell_type": "code",
   "execution_count": 90,
   "metadata": {},
   "outputs": [],
   "source": [
    "# Ebavajaliku info eemaldamine\n",
    "data.drop([\"date\"],axis=1,inplace=True)\n",
    "data.drop([\"title\"],axis=1,inplace=True)"
   ]
  },
  {
   "cell_type": "code",
   "execution_count": 91,
   "metadata": {},
   "outputs": [],
   "source": [
    "data['text'] = data['text'].astype(str)"
   ]
  },
  {
   "cell_type": "code",
   "execution_count": 92,
   "metadata": {},
   "outputs": [],
   "source": [
    "#https://et.wikipedia.org/wiki/Sides%C3%B5na\n",
    "#https://et.wikipedia.org/wiki/Sides%C3%B5na\n",
    "#https://www.taskutark.ee/m/asesonad/\n",
    "#sidesõnad\n",
    "stopsõnad = ['ja', 'ning', 'ega', 'ehk', 'või', 'aga', 'kuid', 'ent', 'vaid', 'et', 'kui', 'kuna', 'sest', 'kuni', 'kuigi', \n",
    "             'ehkki', 'nagu', 'saati', 'elik', 'justkui', 'otsekui', 'seni']\n",
    "#sidesõnad ja asesõnad\n",
    "stopsõnad_uus = ['ja', 'ning', 'ega', 'ehk', 'või', 'aga', 'kuid', 'ent', 'vaid', 'et', 'kui', 'kuna', 'sest', 'kuni', 'kuigi', \n",
    "             'ehkki', 'nagu', 'saati', 'elik', 'justkui', 'otsekui', 'seni', 'siis', 'ka','nii','kas','kus', 'mis',\n",
    "             'mina', 'ma', 'meie', 'me', 'sina', 'sa', 'teie', 'te', 'tema', 'ta', 'nemad', 'nad',\n",
    "             'enese', 'enda', 'iseenese', 'iseenda', 'oma', 'üksteise', 'teineteise',\n",
    "             'see', 'too', 'sama', 'seesama', 'toosama', 'teine', 'muu',\n",
    "             'niisugune', 'samasugune', 'niisamasugune', 'selline', 'seesugune', 'säärane','säherdune', \n",
    "             'taoline', 'selletaoline', 'kes', 'mis', 'kumb', 'missugune', 'milline', 'misuke', 'mitu', 'mitmes', 'mitmendik',\n",
    "             'ise', 'oma', 'iga', 'igaüks', 'igamees', 'kõik', 'mõlemad', 'kumbki', 'emb-kumb', 'kogu', 'terve',\n",
    "             'keegi', 'miski', 'mingi', 'mingisugune', 'miskisugune', 'ükski', 'mitu', 'mitmes', 'mitu-setu', 'mitmes-setmes',\n",
    "             'mõni', 'mõningane', 'paljud', 'üks', 'teine', 'oma', 'enese', 'enda', 'omaenese', 'omaenda', 'iseoma', \n",
    "             'iseenese', 'iseenda', 'emb', 'mõlema', 'palju', 'setu']\n",
    "# stoppsõnade eemaldamine, stoppsõnadega peab TEGELEMA, kas eemaldada stoppsõnad siin või hiljem vektoriseerijas?\n",
    "#data['text'] = data['text'].apply(lambda x: ' '.join([word for word in x.split() if word not in (stopsõnad_uus)]))"
   ]
  },
  {
   "cell_type": "markdown",
   "metadata": {},
   "source": [
    "# Segadusmaatriks (confusion matrix)"
   ]
  },
  {
   "cell_type": "markdown",
   "metadata": {},
   "source": [
    "                  Väär  | tõeselt negatiivne | valepositiivne\n",
    "                  _______________________________________________          Tegelik märgend\n",
    "                  \n",
    "                  Tõene | valenegatiivne     | tõeselt positiivne\n",
    "                  _______________________________________________\n",
    "                              Väär                Tõene\n",
    "                  \n",
    "                                Ennustatud märgend\n",
    "   \n",
    "                    "
   ]
  },
  {
   "cell_type": "code",
   "execution_count": 93,
   "metadata": {},
   "outputs": [],
   "source": [
    "# Segadusmaatriks (plot the confusion matrix)\n",
    "#https://scikit-learn.org/stable/auto_examples/model_selection/plot_confusion_matrix.html)\n",
    "from sklearn import metrics\n",
    "import itertools\n",
    "\n",
    "def plot_confusion_matrix(cm, classes,\n",
    "                          normalize=False,\n",
    "                          title='Segadusmaatriks',\n",
    "                          cmap=plt.cm.Blues):\n",
    "    \n",
    "    plt.imshow(cm, interpolation='nearest', cmap=cmap)\n",
    "    plt.title(title)\n",
    "    plt.colorbar()\n",
    "    tick_marks = np.arange(len(classes))\n",
    "    plt.xticks(tick_marks, classes, rotation=45)\n",
    "    plt.yticks(tick_marks, classes)\n",
    "\n",
    "    if normalize:\n",
    "        cm = cm.astype('float') / cm.sum(axis=1)[:, np.newaxis]\n",
    "        print(\"Normaliseeritud segadusmaatriks\")\n",
    "    else:\n",
    "        print('Normaliseerimata segadusmaatriks')\n",
    "\n",
    "    thresh = cm.max() / 2.\n",
    "    for i, j in itertools.product(range(cm.shape[0]), range(cm.shape[1])):\n",
    "        plt.text(j, i, cm[i, j],\n",
    "                 horizontalalignment=\"center\",\n",
    "                 color=\"white\" if cm[i, j] > thresh else \"black\")\n",
    "\n",
    "    plt.tight_layout()\n",
    "    \n",
    "    plt.ylabel('True label/Tõeline märgend')\n",
    "    plt.xlabel('Predicted label/Prognoositud märgend')"
   ]
  },
  {
   "cell_type": "markdown",
   "metadata": {},
   "source": [
    "# Andmete tükeldamine mudelite treenimiseks"
   ]
  },
  {
   "cell_type": "code",
   "execution_count": 94,
   "metadata": {},
   "outputs": [
    {
     "data": {
      "text/plain": [
       "(200, 4)"
      ]
     },
     "execution_count": 94,
     "metadata": {},
     "output_type": "execute_result"
    }
   ],
   "source": [
    "data.shape"
   ]
  },
  {
   "cell_type": "markdown",
   "metadata": {},
   "source": [
    "train_test_split - split arrays or matrices into random train and test subsets test_size - If float, should be between 0.0 and 1.0 and represent the proportion of the dataset to include in the test split. If int, represents the absolute number of test samples. If None, the value is set to the complement of the train size. If train_size is also None, it will be set to 0.25."
   ]
  },
  {
   "cell_type": "code",
   "execution_count": 95,
   "metadata": {},
   "outputs": [],
   "source": [
    "# Andmete tükeldamine treenimisandmestikuks ja testandmestikuks\n",
    "X_train,X_test,y_train,y_test = train_test_split(data['text'], data.target, test_size=0.3, random_state=42)"
   ]
  },
  {
   "cell_type": "markdown",
   "metadata": {},
   "source": [
    "# Sõnade vektoresitused ja dokument-sõna maatriks"
   ]
  },
  {
   "cell_type": "markdown",
   "metadata": {},
   "source": [
    "Matemaatilistele meetoditele meeldivad struktureeritud arvandmed: vektorid (lihtsustatult öeldes: arvude järjendid) ja maatriksid (lihtsustatult öeldes: arvude tabelid). Seetõttu tuleb enne statistiliste / masinõppe meetodite kasutuselevõtmist leida viis, kuidas \"teisendada\" oma tekstilised andmed arvandmeteks.\n",
    "\n",
    "Tekstide automaatsel klassifitseerimisel või klasterdamisel viiakse analüüsitava korpuse dokumendid vektorkujule ehk:\n",
    "\n",
    "luuakse iga korpuse sõna kohta vektor (arvude \"järjend\"), mille iga positsioon kirjeldab sõna esinemist ühes korpuse dokumendis;\n",
    "kõigi sõnade vektoritest pannakse kokku maatriks (arvude \"tabel\"), mille järgi saab leida nii üksiksõnade esinemismustreid kui ka dokumenti iseloomustava sõnavaramustri.\n",
    "Sarnasuste leidmisel tuginevadki statistilised meetodid maatriksile ning tekstide omadused, mis maatriksis ei kajastu (nt sõnade omavaheline järjekord, lausestus, süntaks vms) tulemust otseselt ka ei mõjuta. \n",
    "\n",
    "Klass CountVectorizer võimaldab luua sõnavektoreid, mille iga positsioon kirjeldab sõna esinemissagedust ühes dokumendis. Klassi initsialiseerimisel on võimalik täpsustada mitmeid teksti eeltöötluse samme, nt kas sõnad tuleks teisendada väiketähelisteks (vaikimisi: jah), kuidas (millise meetodi abil) jagada tekst sõnadeks ning millised sõnad on nn stopp-sõnad, mis tuleks välja jätta.\n",
    "\n",
    "TfidfVectorizer kasutab sõnasageduste asemel TF-IDF-skoori, mis näitab, kuivõrd iseloomulik on sõna mingile tekstile korpuses. TF (term frequency) on sõna esinemissagedus tekstis, IDF (inverse document frequency) kajastab seda, kui paljudes korpuse dokumentides see sõna üldse esineb, TF-IDF on nende korrutis.\n",
    "\n",
    "(Eesti keele töötlus Pythonis materjal)"
   ]
  },
  {
   "cell_type": "markdown",
   "metadata": {},
   "source": [
    "## Eesti keele sõnestusvahendid"
   ]
  },
  {
   "cell_type": "markdown",
   "metadata": {},
   "source": [
    "Teksti sõnestamine kasutades eesti keele sõnestusvahendeid. Seega loome meetodi, mis saab sisendiks sõne, sõnestab selle EstNLTK abil ning tagastab sõnade järjendi. Ning CountVectorizer-i loomisel täpsustame, et sõnestamiseks tuleks kasutada just seda meetodit. \n",
    "(Eesti keele töötlus Pythonis materjal)"
   ]
  },
  {
   "cell_type": "code",
   "execution_count": 96,
   "metadata": {},
   "outputs": [],
   "source": [
    "from estnltk import Text\n",
    "\n",
    "# Meetodid teksti sõnestamiseks estnltk abil\n",
    "def tokenize_with_estnltk( input_string ):\n",
    "    return Text(input_string).tag_layer(['words']).words.text\n",
    "\n",
    "def lemmatize_with_estnltk(input_string):\n",
    "    lemma = Text(input_string).tag_layer(['morph_analysis']).lemma\n",
    "    # https://stackoverflow.com/questions/11264684/flatten-list-of-lists/11264799\n",
    "    flattened  = [val for sublist in lemma for val in sublist]\n",
    "    return flattened"
   ]
  },
  {
   "cell_type": "markdown",
   "metadata": {},
   "source": [
    "# Mudelid"
   ]
  },
  {
   "cell_type": "markdown",
   "metadata": {},
   "source": [
    "### Logistiline regressioon (Logistic regression)"
   ]
  },
  {
   "cell_type": "code",
   "execution_count": 100,
   "metadata": {},
   "outputs": [
    {
     "name": "stderr",
     "output_type": "stream",
     "text": [
      "C:\\Users\\annel\\anaconda3\\envs\\AL_keskkond\\lib\\site-packages\\sklearn\\feature_extraction\\text.py:286: UserWarning: Your stop_words may be inconsistent with your preprocessing. Tokenizing the stop words generated tokens ['-'] not in stop_words.\n",
      "  sorted(inconsistent))\n"
     ]
    },
    {
     "name": "stdout",
     "output_type": "stream",
     "text": [
      "Logistilise regressiooni mudeli ennustustäpsus: 80.0%\n",
      "Normaliseerimata segadusmaatriks\n"
     ]
    },
    {
     "data": {
      "image/png": "[encoded data removed]",
      "text/plain": [
       "<Figure size 432x288 with 2 Axes>"
      ]
     },
     "metadata": {
      "needs_background": "light"
     },
     "output_type": "display_data"
    }
   ],
   "source": [
    "# Vektoriseerimine ja TF-IDF rakendamine\n",
    "from sklearn.linear_model import LogisticRegression\n",
    "\n",
    "pipe = Pipeline([('vect', CountVectorizer(tokenizer = lemmatize_with_estnltk, stop_words = stopsõnad_uus)),\n",
    "                 ('tfidf', TfidfTransformer()),\n",
    "                 ('model', LogisticRegression())])\n",
    "\n",
    "# Mudeli sobitamine\n",
    "model = pipe.fit(X_train, y_train)\n",
    "\n",
    "# Prognoosimine\n",
    "prediction = model.predict(X_test)\n",
    "print(\"Logistilise regressiooni mudeli ennustustäpsus: {}%\".format(round(accuracy_score(y_test, prediction)*100,2)))\n",
    "täpsus_logreg = round(accuracy_score(y_test, prediction)*100,2)\n",
    "cm = metrics.confusion_matrix(y_test, prediction)\n",
    "plot_confusion_matrix(cm, classes=['Väär', 'Tõene'])"
   ]
  },
  {
   "cell_type": "markdown",
   "metadata": {},
   "source": [
    "### Otsustuspuu (Decision Tree)"
   ]
  },
  {
   "cell_type": "markdown",
   "metadata": {},
   "source": [
    "Otsustuspuu (nimetatakse ka klassifitseerimise ja regressiooni puu) on traditsiooniline osa andmekaevest ja masinõppe algoritmidest. Otsustuspuu atraktiivsus peitud mudeli lihtsuses ja arusaadavuses, mis võimaldab mudelit üle vaadata ja tõlgendada. Otsustuspuu ei ole alati parima täpsusega, kuid esindab kompromissi täpsuse ja mudeli arusaadavuse osas.\n",
    "\n",
    "Otsustuspuu kasutab traditsioonilist struktuuri, kus aluseks on üks sõlm, mis jaguneb erinevateks harudeks (oksteks), mis omakorda tipnevad sõlmedega, millest igaüks võib edasi hargneda või lõppeda lehega. Iga sõlme juures on test või küsimus, mis määrab, millist haru mööda edasi minna kuni jõutakse leheni ehk otsuseni.https://masinope.ee/masinoppimine/"
   ]
  },
  {
   "cell_type": "code",
   "execution_count": 115,
   "metadata": {},
   "outputs": [
    {
     "name": "stdout",
     "output_type": "stream",
     "text": [
      "Otsustuspuu mudeli ennustustäpsus: 70.0%\n",
      "Normaliseerimata segadusmaatriks\n"
     ]
    },
    {
     "data": {
      "image/png": "[encoded data removed]",
      "text/plain": [
       "<Figure size 432x288 with 2 Axes>"
      ]
     },
     "metadata": {
      "needs_background": "light"
     },
     "output_type": "display_data"
    }
   ],
   "source": [
    "from sklearn.tree import DecisionTreeClassifier\n",
    "\n",
    "# Vektoriseerimine ja TF-IDF rakendamine\n",
    "pipe = Pipeline([('vect', CountVectorizer()),#tokenizer = lemmatize_with_estnltk, stop_words = stopsõnad_uus)),\n",
    "                 ('tfidf', TfidfTransformer()),\n",
    "                 ('model', DecisionTreeClassifier(criterion= 'entropy',\n",
    "                                           max_depth = 20, \n",
    "                                           splitter='best', \n",
    "                                           random_state=42))])\n",
    "# Mudeli sobitamine\n",
    "model = pipe.fit(X_train, y_train)\n",
    "\n",
    "# Prognoosimine\n",
    "prediction = model.predict(X_test)\n",
    "print(\"Otsustuspuu mudeli ennustustäpsus: {}%\".format(round(accuracy_score(y_test, prediction)*100,2)))\n",
    "täpsus_DecTrCl = round(accuracy_score(y_test, prediction)*100,2)\n",
    "cm = metrics.confusion_matrix(y_test, prediction)\n",
    "plot_confusion_matrix(cm, classes=['Väär', 'Tõene'])"
   ]
  },
  {
   "cell_type": "markdown",
   "metadata": {},
   "source": [
    "### Juhuslik mets (Random Forest)"
   ]
  },
  {
   "cell_type": "markdown",
   "metadata": {},
   "source": [
    "\n",
    "Ühe otsustuspuu loomine pakub lihtsat mudelit vaadeldava probleemi lahendamiseks, kuid tihtipeale jääb see liiga lihtsaks või spetsiifiliseks. Varasemad andmekaeve kogemused on näidanud, et mitmete mudelite koostöö annab paremaid tulemusi. Mitme mudeli (nt otsustuspuu) kombineerimine ühte mudelite kogumisse annab otsustuspuude metsa.\n",
    "\n",
    "Juhusliku metsa puhul kasutatakse juhuslikku valikut nii vaatluste kui parameetrite valikul. Selle tulemusena on võimalik saavutada suurem sõltumatus andmete muutumisest, andmetes sisalduvast mürast ja ekstreemsetest vaatlustest ning ülemäärasest sobitamisest algandmetele. Samuti on juhusliku metsa eeliseks parem toimetulek tasakaalustamata treeningandmetega. Näiteks kui binaarse klassifikatsiooni korral on petturlikke tehinguid algbaasis vaid kuni 5% ja ülejäänud on legitiimsed tehingud.\n",
    "\n",
    "Juhusliku metsa kasuks räägib ka asjaolu, et see ei nõua suurt andmete eeltöötlemist, sest andmeid ei pea normaliseerima. Samuti pole vaja tegeleda parameetrite valikuga, sest algoritm teeb seda ise. Kuna mudeli paljud puud on koostatud kahe taseme juhuslikkuse alusel (vaatlused ja parameetrid), siis on iga puu eraldi sõltumatu mudel ja koondmudel on kokkuvõttes treeningandmetest vähem sõltuv.\n",
    "https://masinope.ee/masinoppimine/"
   ]
  },
  {
   "cell_type": "code",
   "execution_count": 110,
   "metadata": {},
   "outputs": [
    {
     "name": "stdout",
     "output_type": "stream",
     "text": [
      "Juhusliku metsa mudeli täpsus: 75.0%\n",
      "Normaliseerimata segadusmaatriks\n"
     ]
    },
    {
     "data": {
      "image/png": "[encoded data removed]",
      "text/plain": [
       "<Figure size 432x288 with 2 Axes>"
      ]
     },
     "metadata": {
      "needs_background": "light"
     },
     "output_type": "display_data"
    }
   ],
   "source": [
    "from sklearn.ensemble import RandomForestClassifier\n",
    "\n",
    "# Vektoriseerimine ja TF-IDF rakendamine\n",
    "pipe = Pipeline([('vect', CountVectorizer()),#tokenizer = lemmatize_with_estnltk, stop_words = stopsõnad_uus)),\n",
    "                 ('tfidf', TfidfTransformer()),\n",
    "                 ('model', RandomForestClassifier(n_estimators=50, criterion=\"entropy\"))])\n",
    "# Mudeli sobitamine\n",
    "model = pipe.fit(X_train, y_train)\n",
    "\n",
    "# Prognoosimine\n",
    "prediction = model.predict(X_test)\n",
    "print(\"Juhusliku metsa mudeli täpsus: {}%\".format(round(accuracy_score(y_test, prediction)*100,2)))\n",
    "cm = metrics.confusion_matrix(y_test, prediction)\n",
    "plot_confusion_matrix(cm, classes=['Väär', 'Tõene'])"
   ]
  },
  {
   "cell_type": "markdown",
   "metadata": {},
   "source": [
    "## PassiveAgressiveClassifier"
   ]
  },
  {
   "cell_type": "code",
   "execution_count": 121,
   "metadata": {},
   "outputs": [
    {
     "name": "stdout",
     "output_type": "stream",
     "text": [
      "Agressiivse passiivse mudeli täpsus: 85.0%\n",
      "Normaliseerimata segadusmaatriks\n"
     ]
    },
    {
     "data": {
      "image/png": "[encoded data removed]",
      "text/plain": [
       "<Figure size 432x288 with 2 Axes>"
      ]
     },
     "metadata": {
      "needs_background": "light"
     },
     "output_type": "display_data"
    }
   ],
   "source": [
    "from sklearn.linear_model import PassiveAggressiveClassifier\n",
    "\n",
    "# TF-IDF vektoriseerija rakendamine\n",
    "tfidf_vectorizer=TfidfVectorizer() #tokenizer = lemmatize_with_estnltk, stop_words = stopsõnad_uus)\n",
    "\n",
    "# fit and transform train set, transform test set\n",
    "tfidf_train=tfidf_vectorizer.fit_transform(X_train)\n",
    "tfidf_test=tfidf_vectorizer.transform(X_test)\n",
    "\n",
    "# Passiivse agressiivse klassifitseerija rakendamine\n",
    "pac=PassiveAggressiveClassifier(max_iter=50)\n",
    "\n",
    "# Mudeli sobitamine\n",
    "pac.fit(tfidf_train,y_train)\n",
    "\n",
    "# Prognoosimine\n",
    "prediction=pac.predict(tfidf_test)\n",
    "score=accuracy_score(y_test,prediction)\n",
    "print(f'Agressiivse passiivse mudeli täpsus: {round(score*100,2)}%')\n",
    "cm = metrics.confusion_matrix(y_test, prediction)\n",
    "plot_confusion_matrix(cm, classes=['Väär', 'Tõene'])"
   ]
  },
  {
   "cell_type": "code",
   "execution_count": 172,
   "metadata": {},
   "outputs": [
    {
     "data": {
      "text/plain": [
       "'fake'"
      ]
     },
     "execution_count": 172,
     "metadata": {},
     "output_type": "execute_result"
    }
   ],
   "source": [
    "txt1 = ['Maa on lame!']\n",
    "pac.predict(tfidf_vectorizer.transform(txt1))[0]"
   ]
  },
  {
   "cell_type": "code",
   "execution_count": 173,
   "metadata": {},
   "outputs": [
    {
     "data": {
      "text/plain": [
       "'true'"
      ]
     },
     "execution_count": 173,
     "metadata": {},
     "output_type": "execute_result"
    }
   ],
   "source": [
    "txt2 = ['Praegu on talv. Varsti on Jõulud.']\n",
    "pac.predict(tfidf_vectorizer.transform(txt2))[0]"
   ]
  },
  {
   "cell_type": "code",
   "execution_count": 174,
   "metadata": {},
   "outputs": [
    {
     "data": {
      "text/plain": [
       "'fake'"
      ]
     },
     "execution_count": 174,
     "metadata": {},
     "output_type": "execute_result"
    }
   ],
   "source": [
    "txt3 = ['Maailma valitsevad ja juhivad kaugest galaktikast pärit roomajad. Nendel roomajatel on arvatavalt võime võtta inimkuju. Nad on Maa sisemuses asuvate jumalate rass ja nad on tulnud valguse kätte selleks, et Maad valitseda. Neid roomajaid on väga vähe, seepärast võtavadki nad meie planeedi oma kontrolli alla aeglaselt ja salaja.']\n",
    "pac.predict(tfidf_vectorizer.transform(txt3))[0]"
   ]
  },
  {
   "cell_type": "code",
   "execution_count": 175,
   "metadata": {},
   "outputs": [
    {
     "data": {
      "text/plain": [
       "'fake'"
      ]
     },
     "execution_count": 175,
     "metadata": {},
     "output_type": "execute_result"
    }
   ],
   "source": [
    "txt4 = ['Globaalne soojenemine on jama. Selle teooria pooldajad väidavad, et teadlastel ei ole tõendeid selle kohta, et inimesed on põhjapooluse sulamise ja globaalse soojenemise peamine põhjus. Arvatakse, et teadlased on selle väite välja mõtelnud, et saada rohkem raha, mida siis oma vajadusteks kulutada, lastes paista, et nad otsivad lahendust atmosfääri soojenemise takistamiseks.']\n",
    "pac.predict(tfidf_vectorizer.transform(txt4))[0]"
   ]
  },
  {
   "cell_type": "code",
   "execution_count": 176,
   "metadata": {},
   "outputs": [
    {
     "data": {
      "text/plain": [
       "'true'"
      ]
     },
     "execution_count": 176,
     "metadata": {},
     "output_type": "execute_result"
    }
   ],
   "source": [
    "txt5 = ['Arktika on meie planeedi kõige kiiremini soojenev ala. Põhja-Jäämere triivjää sulab kiiresti. Tänapäeval ei saa me enam öelda, et Arktika soojeneb umbes kaks korda kiiremini kui terve maailm. See soojeneb juba maailmast kolm korda ja kohati veelgi kiiremini. 2020. aasta ei ole erand.']\n",
    "pac.predict(tfidf_vectorizer.transform(txt5))[0]"
   ]
  },
  {
   "cell_type": "code",
   "execution_count": 177,
   "metadata": {},
   "outputs": [
    {
     "data": {
      "text/plain": [
       "'true'"
      ]
     },
     "execution_count": 177,
     "metadata": {},
     "output_type": "execute_result"
    }
   ],
   "source": [
    "txt6 = ['Tartu asub Emajõe kaldal.']\n",
    "pac.predict(tfidf_vectorizer.transform(txt6))[0]"
   ]
  },
  {
   "cell_type": "code",
   "execution_count": 180,
   "metadata": {},
   "outputs": [
    {
     "data": {
      "text/plain": [
       "'true'"
      ]
     },
     "execution_count": 180,
     "metadata": {},
     "output_type": "execute_result"
    }
   ],
   "source": [
    "txt7 = ['Mina olen tegelikult teiselt planeedilt.']\n",
    "pac.predict(tfidf_vectorizer.transform(txt7))[0]"
   ]
  },
  {
   "cell_type": "markdown",
   "metadata": {},
   "source": [
    "Siinkohal ma lõpetan:)"
   ]
  }
 ],
 "metadata": {
  "kernelspec": {
   "display_name": "Python 3",
   "language": "python",
   "name": "python3"
  },
  "language_info": {
   "codemirror_mode": {
    "name": "ipython",
    "version": 3
   },
   "file_extension": ".py",
   "mimetype": "text/x-python",
   "name": "python",
   "nbconvert_exporter": "python",
   "pygments_lexer": "ipython3",
   "version": "3.6.10"
  }
 },
 "nbformat": 4,
 "nbformat_minor": 4
}
