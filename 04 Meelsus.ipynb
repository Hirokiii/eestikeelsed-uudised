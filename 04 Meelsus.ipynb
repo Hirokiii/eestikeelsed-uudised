{
 "cells": [
  {
   "cell_type": "markdown",
   "metadata": {},
   "source": [
    "# 04 Uudiste meelsus (tonaalsus, polaarsus)\n",
    "Leksikonipõhine  ja sõnapõhine lähenemine"
   ]
  },
  {
   "cell_type": "markdown",
   "metadata": {},
   "source": [
    "Inspiratsioon ja algallikad:\n",
    "1. Väärinforiskid Eesti Meediaturul\n",
    "GDI(The Global Disinformation Index - Globaalne Väärinformatsiooni Indeks) hindab uudistesaitide võimalikku kalduvust väärinfo vahendamisele.\n",
    "\"Artiklite tonaalsus on hea indikaator, mille abil ennustada uudisportaali teisi\n",
    "väärinforiskidega seotud tugevuste ja nõrkuste seost teiste muutujatega.\n",
    "Siin on oluline välja tuua tähelepanek, et artikli tonaalsuse ja väärinfo esinemise\n",
    "tõenäosuse vahel on tugev seos.\"\n",
    "https://disinformationindex.org/wp-content/uploads/2020/10/GDI-RiskRatingsReport_Estonian.pdf\n",
    "2. IDENTIFYING POLARITY IN DIFFERENT TEXT TYPES\n",
    "http://www.folklore.ee/folklore/vol64/polarity.pdf\n",
    "3. Meelestatuse analüüs\n",
    "http://samm.ut.ee/meelestatuse-anal%C3%BC%C3%BCs\n",
    "4. Quantifying Mental Health Signals in Twitter\n",
    "https://www.aclweb.org/anthology/W14-3207.pdf\n",
    "5. Emotsioonidetektor\n",
    "http://peeter.eki.ee:5000/valence\n",
    "6.Emotsioonid – Kõnetehnoloogia olevik ja tulevik Hille Pajupuu\n",
    "https://www.academia.edu/7169398/Emotsioonid_k%C3%B5netehnoloogia_olevik_ja_tulevik\n",
    "7.Skriptimisvahendid teksti lokaliseerimiseks ja asukohapõhiseks analüüsiks Eesti asulate meediakuvandi tuvastamise näitel\n",
    "Ott Koik (2.2.5 Meelsusanalüüs)\n",
    "https://dspace.ut.ee/bitstream/handle/10062/60459/Koik_Ott.pdf?sequence=1&isAllowed=y\n",
    "8. This is a program classifying an Estonian text as positive, neutral or negative.\n",
    "https://github.com/EKT1/valence\n",
    "9.If you use the corpora valence/korpus.csv, valence/sqnad.csv in your work, please cite the following paper:\n",
    "\n",
    "Pajupuu, Hille; Altrov, Rene; Pajupuu, Jaan (2016). Identifying polarity in different text types. Folklore. Electronic Journal of Folklore, 64, 25−42. DOI PDF\n",
    "10.THE STRUCTURE OF ESTONIAN CONCEPTS OF EMOTION: A SELF-ORGANIZATIONAL APPROACH\n",
    "https://www.researchgate.net/profile/Toomas_Kirt/publication/228689514_The_structure_of_estonian_concepts_of_emotion_A_self-organizational_approach/links/02e7e5164577f55fcc000000/The-structure-of-estonian-concepts-of-emotion-A-self-organizational-approach.pdf?origin=publication_list"
   ]
  },
  {
   "cell_type": "markdown",
   "metadata": {},
   "source": [
    "Mida tehti?\n",
    "\n",
    "1) Kasutada Eesti Keele Instituudi emotsioonileksikoni (estonian-emotion-lexicon.csv), mis sisaldab 39100 eestikeelset sõna koos skooriga. Skoor võib olla kas negatiivne (-1, -8) või positiivne (+1);\n",
    "\n",
    "2) Kasutada EstNLTK teeki sõnaliikide tuvastamiseks\n",
    "\n",
    "    a) esimesele isikule viitavate verbivormide leidmine ('gem','ks','ksime', 'ksin', 'me', 'n', 'neg gem', 'neg ks', 'neg me', 'neg nud', 'neg nuks', 'neg o', 'neg vat', 'nuks','nuksime', 'nuksin', 'nuvat', 'sime', 'sin', 'vat')\n",
    "    \n",
    "    b) esimesele isikule viitavate asesõnade leidmine ('mina', 'ma', 'meie', 'me')"
   ]
  },
  {
   "cell_type": "markdown",
   "metadata": {},
   "source": [
    "Miks tehti? \n",
    "\n",
    "Algallikatele toetudes arvati, et negatiivsus ja esimese isiku kasutamine võivad olla uudise meelsuse näitajaks. (Eestikeelse emotsioonileksikoni kasutamise kohta on tehtud teadustöid, millele tugineti. Esimese isiku kasutamise kohta eestikeelses teaduskirjanduses viiteid ei leitud. Esimese isiku kasutamist näitajana peab seetõttu veel kaaluma.)"
   ]
  },
  {
   "cell_type": "markdown",
   "metadata": {},
   "source": [
    "Kuidas?\n",
    "\n",
    "Eesmärgiks leida uudisartiklile meelsuse (tonaalsuse, polaarsuse ) näitaja, mis arvestab artiklis kasutatud sõnade negatiivsust ja esimese isiku kasutust (verbid, asesõnad). "
   ]
  },
  {
   "cell_type": "markdown",
   "metadata": {},
   "source": [
    "Mis leiti?\n",
    "\n",
    "Iga uudisartikli kohta leiti:\n",
    "\n",
    "1) uudise pikkus sõnades\n",
    "\n",
    "2) negatiivsete sõnade arv;\n",
    "\n",
    "3) esimeses isikus kasutatud sõnade arv;\n",
    "\n",
    "4) uudise skoor = negatiivsete sõnade arv + esimeses isikus kasutatud sõnade arv;\n",
    "\n",
    "5) uudise kordaja = uudise skoor/uudise pikkus sõnades*;\n",
    "\n",
    "6) positiivsete sõnade arv;\n",
    "\n",
    "Kogu korpuse kohta leiti:\n",
    "eelmistes punktides toodu, lisaks artiklites kasutatud negatiivsete ja positiivsete sõnade list.\n",
    "\n",
    "*Positiivsete sõnade arv ei kajastu kordajas."
   ]
  },
  {
   "cell_type": "markdown",
   "metadata": {},
   "source": [
    "Väljastatakse skooride tabel, mille veergudeks on:\n",
    "\n",
    "sõnade arv uudises\n",
    "\n",
    "esimeses isikus sõnade arv\n",
    "\n",
    "negatiivsete sõnade arv\n",
    "\n",
    "uudise kordaja\n",
    "\n",
    "positiivsete sõnade arv\n",
    "\n",
    "väljaande nimi\n",
    "\n",
    "uudise pealkiri"
   ]
  },
  {
   "cell_type": "code",
   "execution_count": 1,
   "metadata": {},
   "outputs": [],
   "source": [
    "import csv\n",
    "import pandas as pd\n",
    "from estnltk import Text\n",
    "from tqdm import tqdm"
   ]
  },
  {
   "cell_type": "code",
   "execution_count": 2,
   "metadata": {},
   "outputs": [],
   "source": [
    "asesõnad = ['mina', 'ma', 'meie', 'me']\n",
    "verbid = ['gem','ks','ksime', 'ksin', 'me', 'n', 'neg gem', 'neg ks', 'neg me', 'neg nud', 'neg nuks', 'neg o', 'neg vat', 'nuks'\n",
    "         'nuksime', 'nuksin', 'nuvat', 'sime', 'sin', 'vat']\n",
    "leksikon = {}\n",
    "with open('estonian-emotion-lexicon.csv') as csv_file:\n",
    "    reader = csv.reader(csv_file, delimiter=';')\n",
    "    header = next(reader)\n",
    "    for row in reader:\n",
    "        leksikon[row[0]]= row[1]"
   ]
  },
  {
   "cell_type": "code",
   "execution_count": 3,
   "metadata": {},
   "outputs": [],
   "source": [
    "def uudise_skoor(uudised): # sisend DataFrame\n",
    "    esimese_isiku_kasutus = 0\n",
    "    negatiivsus = 0\n",
    "    positiivsus = 0\n",
    "    negatiivsed_sonad_list = []\n",
    "    positiivsed_sonad_list = []\n",
    "    uudiste_pikkus_sõnades = 0\n",
    "    uudisdict= {}\n",
    "    pikkus =[]\n",
    "    esimene_isik = []\n",
    "    neg = []\n",
    "    kordaja = []\n",
    "    pos =[]\n",
    "    print(\"Analüüsitakse\", len(uudised.text),\"uudist.\")\n",
    "    \n",
    "    for i in tqdm(range (0, len(uudised))):\n",
    "        rida = uudised.iloc[i]\n",
    "        #print(i, rida[0])\n",
    "        #print(rida[1])\n",
    "        #print(len(rida[1]))\n",
    "        text = Text(rida[1]).tag_layer()#.morph_analysis['lemma','partofspeech']\n",
    "\n",
    "    #for i, uudis in tqdm(enumerate(uudised.text)):\n",
    "    \n",
    "        #text = Text(uudis).tag_layer()\n",
    "        uudise_pikkus_sõnades = len(text.words.text)\n",
    "        if uudise_pikkus_sõnades !=0:\n",
    "            uudiste_pikkus_sõnades += uudise_pikkus_sõnades\n",
    "\n",
    "            a_sõnade_arv = 0\n",
    "            v_sõnade_arv = 0\n",
    "            esimene_isik_arv = 0\n",
    "            negatiivsete_arv = 0\n",
    "            positiivsete_arv = 0\n",
    "\n",
    "            morf = text.morph_analysis\n",
    "            for sõna in morf:\n",
    "\n",
    "                if sõna.text in leksikon:\n",
    "\n",
    "                    if int(leksikon[sõna.text]) < 0:\n",
    "                        negatiivsed_sonad_list.append(sõna.text)\n",
    "                        negatiivsete_arv -= int(leksikon[sõna.text])\n",
    "\n",
    "                    if int(leksikon[sõna.text]) > 0:\n",
    "                        positiivsed_sonad_list.append(sõna.text)\n",
    "                        positiivsete_arv += int(leksikon[sõna.text])\n",
    "\n",
    "                if sõna.partofspeech[0]  == 'V': #verb\n",
    "                    if sõna.form[0] in verbid:\n",
    "                        v_sõnade_arv += 1\n",
    "                if sõna.text in asesõnad:\n",
    "                    a_sõnade_arv += 1\n",
    "            esimene_isik_arv = a_sõnade_arv + v_sõnade_arv\n",
    "            esimese_isiku_kasutus += esimene_isik_arv\n",
    "            negatiivsus += negatiivsete_arv\n",
    "            uudise_skoor = esimene_isik_arv + negatiivsete_arv\n",
    "            uudise_kordaja = uudise_skoor/uudise_pikkus_sõnades\n",
    "            positiivsus += positiivsete_arv\n",
    "            \n",
    "            pikkus.append(uudise_pikkus_sõnades)\n",
    "            esimene_isik.append(esimene_isik_arv)\n",
    "            neg.append(negatiivsete_arv)\n",
    "            kordaja.append(round(uudise_kordaja*100, 2))\n",
    "            pos.append(positiivsete_arv)\n",
    "\n",
    "    uudisdict = {'sõnu uudises':pikkus,'esimene isik': esimene_isik, 'negatiivsus': neg, 'kordaja':kordaja, 'positiivsus':pos}\n",
    "\n",
    "    statistika = pd.DataFrame(uudisdict, columns = ['sõnu uudises', 'esimene isik', 'negatiivsus', 'kordaja', 'positiivsus'])\n",
    "    statistika['väljaanne'] = uudised['subject']  \n",
    "    #statistika['pealkiri'] = uudised['title']\n",
    "    statistika['link'] = uudised['link']\n",
    "    \n",
    "    print('Korpuses 1. isiku kasutamine', esimese_isiku_kasutus)\n",
    "    print('Korpuses negatiivsus', negatiivsus)\n",
    "    skoor = esimese_isiku_kasutus + negatiivsus\n",
    "    print(\"Korpuse uudiste skoor: \", skoor)\n",
    "    print(\"Korpuse uudiste pikkus sõnades: \", uudiste_pikkus_sõnades)\n",
    "    print(\"Korpuse kordaja: \", round(skoor/uudiste_pikkus_sõnades*100, 2))\n",
    "    print(\"Korpuse positiivsus\", positiivsus)\n",
    "    print(\"Korpuses negatiivseid sõnu: \", len(negatiivsed_sonad_list))#, negatiivsed_sonad_list)\n",
    "    print(\"Korpuses positiivseid sõnu: \", len(positiivsed_sonad_list))#, positiivsed_sonad_list)\n",
    "    return statistika"
   ]
  },
  {
   "cell_type": "code",
   "execution_count": 4,
   "metadata": {},
   "outputs": [
    {
     "data": {
      "text/plain": [
       "(17437, 5)"
      ]
     },
     "execution_count": 4,
     "metadata": {},
     "output_type": "execute_result"
    }
   ],
   "source": [
    "data_koos = pd.read_csv(\"data_uudised_koos_UUS.csv\")\n",
    "data_koos.shape"
   ]
  },
  {
   "cell_type": "code",
   "execution_count": 5,
   "metadata": {},
   "outputs": [
    {
     "name": "stderr",
     "output_type": "stream",
     "text": [
      "  0%|                                                                                | 1/17437 [00:00<30:09,  9.64it/s]"
     ]
    },
    {
     "name": "stdout",
     "output_type": "stream",
     "text": [
      "Analüüsitakse 17437 uudist.\n"
     ]
    },
    {
     "name": "stderr",
     "output_type": "stream",
     "text": [
      "100%|██████████████████████████████████████████████████████████████████████████| 17437/17437 [1:26:16<00:00,  3.37it/s]\n"
     ]
    },
    {
     "name": "stdout",
     "output_type": "stream",
     "text": [
      "Korpuses 1. isiku kasutamine 141951\n",
      "Korpuses negatiivsus 186371\n",
      "Korpuse uudiste skoor:  328322\n",
      "Korpuse uudiste pikkus sõnades:  7802657\n",
      "Korpuse kordaja:  4.21\n",
      "Korpuse positiivsus 206301\n",
      "Korpuses negatiivseid sõnu:  185664\n",
      "Korpuses positiivseid sõnu:  206301\n"
     ]
    }
   ],
   "source": [
    "tulemused = uudise_skoor(data_koos)"
   ]
  },
  {
   "cell_type": "code",
   "execution_count": 6,
   "metadata": {},
   "outputs": [
    {
     "data": {
      "text/html": [
       "<div>\n",
       "<style scoped>\n",
       "    .dataframe tbody tr th:only-of-type {\n",
       "        vertical-align: middle;\n",
       "    }\n",
       "\n",
       "    .dataframe tbody tr th {\n",
       "        vertical-align: top;\n",
       "    }\n",
       "\n",
       "    .dataframe thead th {\n",
       "        text-align: right;\n",
       "    }\n",
       "</style>\n",
       "<table border=\"1\" class=\"dataframe\">\n",
       "  <thead>\n",
       "    <tr style=\"text-align: right;\">\n",
       "      <th></th>\n",
       "      <th>sõnu uudises</th>\n",
       "      <th>esimene isik</th>\n",
       "      <th>negatiivsus</th>\n",
       "      <th>kordaja</th>\n",
       "      <th>positiivsus</th>\n",
       "      <th>väljaanne</th>\n",
       "      <th>link</th>\n",
       "    </tr>\n",
       "  </thead>\n",
       "  <tbody>\n",
       "    <tr>\n",
       "      <th>0</th>\n",
       "      <td>104</td>\n",
       "      <td>0</td>\n",
       "      <td>1</td>\n",
       "      <td>0.96</td>\n",
       "      <td>0</td>\n",
       "      <td>Delfi</td>\n",
       "      <td>https://www.delfi.ee/news/paevauudised/eesti/puust-punaseks-mis-on-karantiin-ja-mis-on-eneseisolatsioon-kes-on-lahikontaktne?id=90989665</td>\n",
       "    </tr>\n",
       "    <tr>\n",
       "      <th>1</th>\n",
       "      <td>223</td>\n",
       "      <td>0</td>\n",
       "      <td>3</td>\n",
       "      <td>1.35</td>\n",
       "      <td>6</td>\n",
       "      <td>Telegram</td>\n",
       "      <td>https://www.telegram.ee/eesti/loomakaitseorganisatsioonid-kutsuvad-ules-boikoteerima-metsloomadega-tsirkuseid</td>\n",
       "    </tr>\n",
       "    <tr>\n",
       "      <th>2</th>\n",
       "      <td>322</td>\n",
       "      <td>8</td>\n",
       "      <td>12</td>\n",
       "      <td>6.21</td>\n",
       "      <td>12</td>\n",
       "      <td>Telegram</td>\n",
       "      <td>https://www.telegram.ee/eesti/nestor-alampalga-tostmine-on-valtimatu</td>\n",
       "    </tr>\n",
       "    <tr>\n",
       "      <th>3</th>\n",
       "      <td>459</td>\n",
       "      <td>5</td>\n",
       "      <td>5</td>\n",
       "      <td>2.18</td>\n",
       "      <td>13</td>\n",
       "      <td>Delfi</td>\n",
       "      <td>https://www.delfi.ee/news/paevauudised/eesti/eesti-uhineb-koroonavaktsiini-eelostulepinguga-millega-saab-katta-riskiruhmade-vaktsiinivajaduse?id=91697067</td>\n",
       "    </tr>\n",
       "    <tr>\n",
       "      <th>4</th>\n",
       "      <td>611</td>\n",
       "      <td>6</td>\n",
       "      <td>6</td>\n",
       "      <td>1.96</td>\n",
       "      <td>19</td>\n",
       "      <td>Uued Uudised</td>\n",
       "      <td>https://uueduudised.ee/arvamus/lugeja-kirjutab/tohutute-silmamoondustega-kaasaeg-vajab-seadustesse-lisaklauslit-abielu-on-mehe-ja-naise-liit/</td>\n",
       "    </tr>\n",
       "    <tr>\n",
       "      <th>...</th>\n",
       "      <td>...</td>\n",
       "      <td>...</td>\n",
       "      <td>...</td>\n",
       "      <td>...</td>\n",
       "      <td>...</td>\n",
       "      <td>...</td>\n",
       "      <td>...</td>\n",
       "    </tr>\n",
       "    <tr>\n",
       "      <th>17432</th>\n",
       "      <td>139</td>\n",
       "      <td>2</td>\n",
       "      <td>3</td>\n",
       "      <td>3.60</td>\n",
       "      <td>4</td>\n",
       "      <td>Delfi</td>\n",
       "      <td>https://www.delfi.ee/news/paevauudised/eesti/video-sopruse-puiesteel-keset-paeva-roosipoosaid-varastanud-meest-ei-tabatudki-aga-roose-enam-ei-kao?id=91495824</td>\n",
       "    </tr>\n",
       "    <tr>\n",
       "      <th>17433</th>\n",
       "      <td>830</td>\n",
       "      <td>29</td>\n",
       "      <td>29</td>\n",
       "      <td>6.99</td>\n",
       "      <td>13</td>\n",
       "      <td>Telegram</td>\n",
       "      <td>https://www.telegram.ee/arvamus/hamburgi-juhtiv-meditsiiniametnik-paanikaohutajatele-nakatumine-ei-tahenda-veel-haigestumist</td>\n",
       "    </tr>\n",
       "    <tr>\n",
       "      <th>17434</th>\n",
       "      <td>262</td>\n",
       "      <td>1</td>\n",
       "      <td>1</td>\n",
       "      <td>0.76</td>\n",
       "      <td>4</td>\n",
       "      <td>Uued Uudised</td>\n",
       "      <td>https://uueduudised.ee/uudis/eesti/rahvaloenduse-kusimustikku-lisandub-ka-randeteemaline-kusimus/</td>\n",
       "    </tr>\n",
       "    <tr>\n",
       "      <th>17435</th>\n",
       "      <td>470</td>\n",
       "      <td>18</td>\n",
       "      <td>9</td>\n",
       "      <td>5.74</td>\n",
       "      <td>6</td>\n",
       "      <td>Telegram</td>\n",
       "      <td>https://www.telegram.ee/maailm/liibanonlased-naeravad-euroopa-liidu-otsuse-ule-hezbollah-musta-nimekirja-kanda</td>\n",
       "    </tr>\n",
       "    <tr>\n",
       "      <th>17436</th>\n",
       "      <td>192</td>\n",
       "      <td>0</td>\n",
       "      <td>2</td>\n",
       "      <td>1.04</td>\n",
       "      <td>4</td>\n",
       "      <td>Uued Uudised</td>\n",
       "      <td>https://uueduudised.ee/uudis/maailm/kreeka-saarte-migrandid-majutatakse-mandriosa-hotellidesse-ja-korteritesse-kinni-maksab-euroopa-liit/</td>\n",
       "    </tr>\n",
       "  </tbody>\n",
       "</table>\n",
       "<p>17437 rows × 7 columns</p>\n",
       "</div>"
      ],
      "text/plain": [
       "       sõnu uudises  esimene isik  negatiivsus  kordaja  positiivsus  \\\n",
       "0               104             0            1     0.96            0   \n",
       "1               223             0            3     1.35            6   \n",
       "2               322             8           12     6.21           12   \n",
       "3               459             5            5     2.18           13   \n",
       "4               611             6            6     1.96           19   \n",
       "...             ...           ...          ...      ...          ...   \n",
       "17432           139             2            3     3.60            4   \n",
       "17433           830            29           29     6.99           13   \n",
       "17434           262             1            1     0.76            4   \n",
       "17435           470            18            9     5.74            6   \n",
       "17436           192             0            2     1.04            4   \n",
       "\n",
       "          väljaanne  \\\n",
       "0             Delfi   \n",
       "1          Telegram   \n",
       "2          Telegram   \n",
       "3             Delfi   \n",
       "4      Uued Uudised   \n",
       "...             ...   \n",
       "17432         Delfi   \n",
       "17433      Telegram   \n",
       "17434  Uued Uudised   \n",
       "17435      Telegram   \n",
       "17436  Uued Uudised   \n",
       "\n",
       "                                                                                                                                                                link  \n",
       "0                           https://www.delfi.ee/news/paevauudised/eesti/puust-punaseks-mis-on-karantiin-ja-mis-on-eneseisolatsioon-kes-on-lahikontaktne?id=90989665  \n",
       "1                                                      https://www.telegram.ee/eesti/loomakaitseorganisatsioonid-kutsuvad-ules-boikoteerima-metsloomadega-tsirkuseid  \n",
       "2                                                                                               https://www.telegram.ee/eesti/nestor-alampalga-tostmine-on-valtimatu  \n",
       "3          https://www.delfi.ee/news/paevauudised/eesti/eesti-uhineb-koroonavaktsiini-eelostulepinguga-millega-saab-katta-riskiruhmade-vaktsiinivajaduse?id=91697067  \n",
       "4                      https://uueduudised.ee/arvamus/lugeja-kirjutab/tohutute-silmamoondustega-kaasaeg-vajab-seadustesse-lisaklauslit-abielu-on-mehe-ja-naise-liit/  \n",
       "...                                                                                                                                                              ...  \n",
       "17432  https://www.delfi.ee/news/paevauudised/eesti/video-sopruse-puiesteel-keset-paeva-roosipoosaid-varastanud-meest-ei-tabatudki-aga-roose-enam-ei-kao?id=91495824  \n",
       "17433                                   https://www.telegram.ee/arvamus/hamburgi-juhtiv-meditsiiniametnik-paanikaohutajatele-nakatumine-ei-tahenda-veel-haigestumist  \n",
       "17434                                                              https://uueduudised.ee/uudis/eesti/rahvaloenduse-kusimustikku-lisandub-ka-randeteemaline-kusimus/  \n",
       "17435                                                 https://www.telegram.ee/maailm/liibanonlased-naeravad-euroopa-liidu-otsuse-ule-hezbollah-musta-nimekirja-kanda  \n",
       "17436                      https://uueduudised.ee/uudis/maailm/kreeka-saarte-migrandid-majutatakse-mandriosa-hotellidesse-ja-korteritesse-kinni-maksab-euroopa-liit/  \n",
       "\n",
       "[17437 rows x 7 columns]"
      ]
     },
     "execution_count": 6,
     "metadata": {},
     "output_type": "execute_result"
    }
   ],
   "source": [
    "tulemused"
   ]
  },
  {
   "cell_type": "code",
   "execution_count": 7,
   "metadata": {},
   "outputs": [],
   "source": [
    "tulemused.to_csv('meelsus_tabel_koos_UUS.csv', index = False)"
   ]
  },
  {
   "cell_type": "code",
   "execution_count": 8,
   "metadata": {},
   "outputs": [],
   "source": [
    "filtr = tulemused[tulemused['sõnu uudises'] > 50].sort_values(by=['kordaja', 'positiivsus'], ascending=False)"
   ]
  },
  {
   "cell_type": "code",
   "execution_count": 9,
   "metadata": {},
   "outputs": [
    {
     "data": {
      "text/html": [
       "<div>\n",
       "<style scoped>\n",
       "    .dataframe tbody tr th:only-of-type {\n",
       "        vertical-align: middle;\n",
       "    }\n",
       "\n",
       "    .dataframe tbody tr th {\n",
       "        vertical-align: top;\n",
       "    }\n",
       "\n",
       "    .dataframe thead th {\n",
       "        text-align: right;\n",
       "    }\n",
       "</style>\n",
       "<table border=\"1\" class=\"dataframe\">\n",
       "  <thead>\n",
       "    <tr style=\"text-align: right;\">\n",
       "      <th></th>\n",
       "      <th>sõnu uudises</th>\n",
       "      <th>esimene isik</th>\n",
       "      <th>negatiivsus</th>\n",
       "      <th>kordaja</th>\n",
       "      <th>positiivsus</th>\n",
       "      <th>väljaanne</th>\n",
       "      <th>link</th>\n",
       "    </tr>\n",
       "  </thead>\n",
       "  <tbody>\n",
       "    <tr>\n",
       "      <th>11857</th>\n",
       "      <td>114</td>\n",
       "      <td>1</td>\n",
       "      <td>27</td>\n",
       "      <td>24.56</td>\n",
       "      <td>3</td>\n",
       "      <td>Uued Uudised</td>\n",
       "      <td>https://uueduudised.ee/arvamus/repliik/delfi-retoorika-valitsusele-molli/</td>\n",
       "    </tr>\n",
       "    <tr>\n",
       "      <th>8808</th>\n",
       "      <td>2832</td>\n",
       "      <td>23</td>\n",
       "      <td>537</td>\n",
       "      <td>19.77</td>\n",
       "      <td>16</td>\n",
       "      <td>Telegram</td>\n",
       "      <td>https://www.telegram.ee/maailm/suur-ulevaade-usa-osalusega-sojad</td>\n",
       "    </tr>\n",
       "    <tr>\n",
       "      <th>13745</th>\n",
       "      <td>52</td>\n",
       "      <td>7</td>\n",
       "      <td>3</td>\n",
       "      <td>19.23</td>\n",
       "      <td>1</td>\n",
       "      <td>Eesti Päevaleht</td>\n",
       "      <td>https://epl.delfi.ee/uudised/fotod-lasnamae-keeleoskamatu-koolijuht-mulle-lihtsalt-ei-jaa-see-eesti-keel-kulge-psuhholoogiline-susteem-hakkab-vastu?id=91411233</td>\n",
       "    </tr>\n",
       "    <tr>\n",
       "      <th>3158</th>\n",
       "      <td>82</td>\n",
       "      <td>2</td>\n",
       "      <td>13</td>\n",
       "      <td>18.29</td>\n",
       "      <td>2</td>\n",
       "      <td>Delfi</td>\n",
       "      <td>https://www.delfi.ee/news/paevauudised/eesti/viru-vanglas-on-juba-107-nakatunut?id=91573623</td>\n",
       "    </tr>\n",
       "    <tr>\n",
       "      <th>9601</th>\n",
       "      <td>71</td>\n",
       "      <td>8</td>\n",
       "      <td>4</td>\n",
       "      <td>16.90</td>\n",
       "      <td>1</td>\n",
       "      <td>Telegram</td>\n",
       "      <td>https://www.telegram.ee/maailm/tony-robbinsi-intervjuu-nobeli-preemia-laureaadiga-juba-kriisi-alguses-oli-selge-et-paanikaks-pole-pohjust</td>\n",
       "    </tr>\n",
       "    <tr>\n",
       "      <th>...</th>\n",
       "      <td>...</td>\n",
       "      <td>...</td>\n",
       "      <td>...</td>\n",
       "      <td>...</td>\n",
       "      <td>...</td>\n",
       "      <td>...</td>\n",
       "      <td>...</td>\n",
       "    </tr>\n",
       "    <tr>\n",
       "      <th>16936</th>\n",
       "      <td>69</td>\n",
       "      <td>0</td>\n",
       "      <td>0</td>\n",
       "      <td>0.00</td>\n",
       "      <td>0</td>\n",
       "      <td>Delfi</td>\n",
       "      <td>https://www.delfi.ee/news/paevauudised/eesti/jurgen-ligi-nuud-on-selge-kust-tuli-kask-terviseametile?id=90163433</td>\n",
       "    </tr>\n",
       "    <tr>\n",
       "      <th>17216</th>\n",
       "      <td>62</td>\n",
       "      <td>0</td>\n",
       "      <td>0</td>\n",
       "      <td>0.00</td>\n",
       "      <td>0</td>\n",
       "      <td>Telegram</td>\n",
       "      <td>https://www.telegram.ee/eesti/soomes-elab-alaliselt-ligi-40-000-eesti-kodanikku</td>\n",
       "    </tr>\n",
       "    <tr>\n",
       "      <th>17233</th>\n",
       "      <td>55</td>\n",
       "      <td>0</td>\n",
       "      <td>0</td>\n",
       "      <td>0.00</td>\n",
       "      <td>0</td>\n",
       "      <td>Delfi</td>\n",
       "      <td>https://www.delfi.ee/news/paevauudised/valismaa/lati-nouab-edaspidi-eneseisolatsiooni-ainult-sealsest-suurema-haigestumisnaitajaga-riikidest-tulijatelt?id=91309901</td>\n",
       "    </tr>\n",
       "    <tr>\n",
       "      <th>17380</th>\n",
       "      <td>65</td>\n",
       "      <td>0</td>\n",
       "      <td>0</td>\n",
       "      <td>0.00</td>\n",
       "      <td>0</td>\n",
       "      <td>Uued Uudised</td>\n",
       "      <td>https://uueduudised.ee/uudis/eesti/piltuudis-ekre-malestas-sinimagede-kaitselahingus-langenuid/</td>\n",
       "    </tr>\n",
       "    <tr>\n",
       "      <th>17416</th>\n",
       "      <td>54</td>\n",
       "      <td>0</td>\n",
       "      <td>0</td>\n",
       "      <td>0.00</td>\n",
       "      <td>0</td>\n",
       "      <td>Eesti Päevaleht</td>\n",
       "      <td>https://epl.delfi.ee/valismaa/erinevalt-venemaa-kolleegidest-leidsid-berliini-arstid-navalnoi-kehast-murki?id=90829685</td>\n",
       "    </tr>\n",
       "  </tbody>\n",
       "</table>\n",
       "<p>16823 rows × 7 columns</p>\n",
       "</div>"
      ],
      "text/plain": [
       "       sõnu uudises  esimene isik  negatiivsus  kordaja  positiivsus  \\\n",
       "11857           114             1           27    24.56            3   \n",
       "8808           2832            23          537    19.77           16   \n",
       "13745            52             7            3    19.23            1   \n",
       "3158             82             2           13    18.29            2   \n",
       "9601             71             8            4    16.90            1   \n",
       "...             ...           ...          ...      ...          ...   \n",
       "16936            69             0            0     0.00            0   \n",
       "17216            62             0            0     0.00            0   \n",
       "17233            55             0            0     0.00            0   \n",
       "17380            65             0            0     0.00            0   \n",
       "17416            54             0            0     0.00            0   \n",
       "\n",
       "             väljaanne  \\\n",
       "11857     Uued Uudised   \n",
       "8808          Telegram   \n",
       "13745  Eesti Päevaleht   \n",
       "3158             Delfi   \n",
       "9601          Telegram   \n",
       "...                ...   \n",
       "16936            Delfi   \n",
       "17216         Telegram   \n",
       "17233            Delfi   \n",
       "17380     Uued Uudised   \n",
       "17416  Eesti Päevaleht   \n",
       "\n",
       "                                                                                                                                                                      link  \n",
       "11857                                                                                            https://uueduudised.ee/arvamus/repliik/delfi-retoorika-valitsusele-molli/  \n",
       "8808                                                                                                      https://www.telegram.ee/maailm/suur-ulevaade-usa-osalusega-sojad  \n",
       "13745      https://epl.delfi.ee/uudised/fotod-lasnamae-keeleoskamatu-koolijuht-mulle-lihtsalt-ei-jaa-see-eesti-keel-kulge-psuhholoogiline-susteem-hakkab-vastu?id=91411233  \n",
       "3158                                                                           https://www.delfi.ee/news/paevauudised/eesti/viru-vanglas-on-juba-107-nakatunut?id=91573623  \n",
       "9601                             https://www.telegram.ee/maailm/tony-robbinsi-intervjuu-nobeli-preemia-laureaadiga-juba-kriisi-alguses-oli-selge-et-paanikaks-pole-pohjust  \n",
       "...                                                                                                                                                                    ...  \n",
       "16936                                                     https://www.delfi.ee/news/paevauudised/eesti/jurgen-ligi-nuud-on-selge-kust-tuli-kask-terviseametile?id=90163433  \n",
       "17216                                                                                      https://www.telegram.ee/eesti/soomes-elab-alaliselt-ligi-40-000-eesti-kodanikku  \n",
       "17233  https://www.delfi.ee/news/paevauudised/valismaa/lati-nouab-edaspidi-eneseisolatsiooni-ainult-sealsest-suurema-haigestumisnaitajaga-riikidest-tulijatelt?id=91309901  \n",
       "17380                                                                      https://uueduudised.ee/uudis/eesti/piltuudis-ekre-malestas-sinimagede-kaitselahingus-langenuid/  \n",
       "17416                                               https://epl.delfi.ee/valismaa/erinevalt-venemaa-kolleegidest-leidsid-berliini-arstid-navalnoi-kehast-murki?id=90829685  \n",
       "\n",
       "[16823 rows x 7 columns]"
      ]
     },
     "execution_count": 9,
     "metadata": {},
     "output_type": "execute_result"
    }
   ],
   "source": [
    "filtr"
   ]
  },
  {
   "cell_type": "code",
   "execution_count": 10,
   "metadata": {},
   "outputs": [],
   "source": [
    "filtr.to_csv('meelsus_tabel_koos_sorteeritud_UUS.csv', index = False)"
   ]
  },
  {
   "cell_type": "code",
   "execution_count": 11,
   "metadata": {},
   "outputs": [
    {
     "data": {
      "text/plain": [
       "'Delfi/Eesti Päevalehe retoorika muutub päev-päevalt räigemaks. Täna avaldati Vahur Kooritsa arvamuslugu pealkirja all „Kevadine referendum annab rahvale võimaluse valitsusele molli anda“. „Rahvahääletust tagant tõukav EKRE toetub küsitlustulemustele, mille kohaselt toetab enamik Eesti inimesi abielu üksnes mehe ja naise liiduna,“ kirjutab loo autor, lisades, et küsitlus võib muutuda ametlikust teemast selliseks, „kas valijad tahavad valitsusele molli anda“. Sünonüümsõnastiku järgi tähendab “molli andma” eriti labase väljendina vastu hambaid andma, näkku lööma, peksma, kaklema. Nagu näeme, ei käi viha õhutamine meedias enam üksikisiku tasemel ja viisakate väljenditega, vaid ikka banaalselt ja grupiviisiliselt.  '"
      ]
     },
     "execution_count": 11,
     "metadata": {},
     "output_type": "execute_result"
    }
   ],
   "source": [
    "#Kõrgeima kordajaga uudis\n",
    "data_koos['text'][11857]"
   ]
  },
  {
   "cell_type": "code",
   "execution_count": 12,
   "metadata": {
    "scrolled": false
   },
   "outputs": [
    {
     "data": {
      "text/plain": [
       "'Ameerika ühendriike kirjeldatakse tihti kui maailma politseid või rahuvalvajat, kuid statistika näitab hoopis teistsugust pilti: riik on siiani eksisteerinud 243 aastat ning sellest 222 aastal on see olnud mingisuguses sõjas. See tähendab, et kogu oma eluea jooksul on USA-l olnud vaid 21 aastat rahuaega, suutmata sõjata veeta järjest tervet aastakümmet. Üheks põhjuseks sellisele eksistentsile on sõjaväelis-tööstusliku kompleksi suur ning eluline roll USA majanduse elujõulisuses – riik ei suuda enam ilma sõdadeta eksisteerida.   Toome teieni ülevaatliku nimekirja kõigist USA osalusega suurematest sõdadest, kuid silmas tasub pidada, et loetelust on välja jäetud mitmed sõjaväelised sekkumised. Näiteks pole üles loetletud “rahumeelsetel meetoditel“ USA pärismaalastest puhastamine (nt petturlikud lepped), pärismaalaste hulgas korraldatud mitmed massimõrvad ning mitmed korrad, kui USA vägesid on saadetud erinevatesse riikidesse “Ameerika huve kaitsma“. Samuti on nimekirjast jäetud välja enamus CIA sekkumised ning teised salajased sõjad. 1776 – Ameerika iseseisvussõda, Chickamauga sõjad, teine tšerokiide sõda, Pennamite-Yankee sõda 1777 – Ameerika iseseisvussõda, Chickamauga sõjad, teine tšerokiide sõda, Pennamite-Yankee sõda 1778 – Ameerika iseseisvussõda, Chickamauga sõjad, Pennamite-Yankee sõda 1779 – Ameerika iseseisvussõda, Chickamauga sõjad, Pennamite-Yankee sõda 1780 – Ameerika iseseisvussõda, Chickamauga sõjad, Pennamite-Yankee sõda 1781 – Ameerika iseseisvussõda, Chickamauga sõjad, Pennamite-Yankee sõda 1782 – Ameerika iseseisvussõda, Chickamauga sõjad, Pennamite-Yankee sõda 1783 – Ameerika iseseisvussõda, Chickamauga sõjad, Pennamite-Yankee sõda 1784 – Chickamauga sõjad, Pennamite-Yankee sõda, Oconee sõda 1785 – Chickamauga sõjad, Loode-indiaanlaste sõda 1786 – Chickamauga sõjad, Loode-indiaanlaste sõda 1787 – Chickamauga sõjad, Loode-indiaanlaste sõda 1788 – Chickamauga sõjad, Loode-indiaanlaste sõda 1789 – Chickamauga sõjad, Loode-indiaanlaste sõda 1790 – Chickamauga sõjad, Loode-indiaanlaste sõda 1791 – Chickamauga sõjad, Loode-indiaanlaste sõda 1792 – Chickamauga sõjad, Loode-indiaanlaste sõda 1793 – Chickamauga sõjad, Loode-indiaanlaste sõda 1794 – Chickamauga sõjad, Loode-indiaanlaste sõda 1795 – Loode-indiaanlaste sõda 1796 – Suuremaid sõdu polnud 1797 – Suuremaid sõdu polnud 1798 – Quasi-sõda 1799 – Quasi-sõda 1800 – Quasi-sõda 1801 – Esimene berberite sõda 1802 – Esimene berberite sõda 1803 – Esimene berberite sõda 1804 – Esimene berberite sõda 1805 – Esimene berberite sõda 1806 – Sabine’i sõjaretk 1807 – Suuremaid sõdu polnud 1808 – Suuremaid sõdu polnud 1809 – Suuremaid sõdu polnud 1810 – USA okupeeris Hispaania valduses olnud Lääne-Florida 1811 – Tecumsehi sõda 1812 –1812. aasta sõda, Tecumsehi sõda, Seminole’i sõjad, USA okupeeris Hispaania valduses olnud Amelia saare ning teised Ida-Florida osad 1813 –1812. aasta sõda, Tecumsehi sõda, Peoria sõda, Creeki sõda, USA laiendas oma territooriumit Lääne-Floridas 1814 –1812. aasta sõda, Creeki sõda, USA laiendas oma territooriumit Floridas, piraatidevastane sõda 1815 –1812. aasta sõda, teine berberite sõda, piraatidevastane sõda 1816 – Esimene Seminole’i sõda, piraatidevastane sõda 1817 – Esimene Seminole’i sõda, piraatidevastane sõda 1818 – Esimene Seminole’i sõda, piraatidevastane sõda 1819 – Yellowstone’i sõjaretk, piraatidevastane sõda 1820 – Yellowstone’i sõjaretk, piraatidevastane sõda 1821 – piraatidevastane sõda 1822 – piraatidevastane sõda 1823 – piraatidevastane sõda, Arikara sõda 1824 – piraatidevastane sõda 1825 – Yellowstone’i sõjaretk, piraatidevastane sõda 1826 – Suuremaid sõdu polnud 1827 – Winnebago sõda 1828 – Suuremaid sõdu polnud 1829 – Suuremaid sõdu polnud 1830 – Suuremaid sõdu polnud 1831 –Sauki ja Rebaste indiaanlaste sõda 1832 – Musta Kotka sõda 1833 – tšerokiide sõda 1834 – tšerokiide sõda, Pawnee indiaanlaste territooriumi sõjakäik 1835 – tšerokiide sõda, Seminole’i sõjad, teine Creeki sõda 1836 – tšerokiide sõda, Seminole’i sõjad, teine Creeki sõda, Missouri-Iowa piiri sõda 1837 – tšerokiide sõda, Seminole’i sõjad, teine Creeki sõda, Osage indiaanlaste sõda, Haavlisõda 1838 – tšerokiide sõda, Seminole’i sõjad, Haavlisõda 1839 – tšerokiide sõda, Seminole’i sõjad 1840 – Seminole’i sõjad, USA merevägi tungib Fiji saartele 1841 – Seminole’i sõjad, USA merevägi tungib McKeani saarele, Gilberti saarele ja Samoasse 1842 – Seminole’i sõjad 1843 – USA-Hiina vägede kokkupõrge, USA väed tungivad Aafrika rannikule 1844 – Texase-indiaanlaste sõjad 1845 – Texase-indiaanlaste sõjad 1846 – Mehhiko-Ameerika sõda, Texase-indiaanlaste sõjad 1847 – Mehhiko-Ameerika sõda, Texase-indiaanlaste sõjad 1848 – Mehhiko-Ameerika sõda, Texase-indiaanlaste sõjad, Cayuse’i sõda 1849 – Texase-indiaanlaste sõjad, Cayuse’i sõda, Edela-indiaanlaste sõjad, Navajo sõjad, lahing 1. ratsaväe ja indiaanlaste vahel 1850 – Texase-indiaanlaste sõjad, Cayuse’i sõda, Edela-indiaanlaste sõjad, Navajo sõjad, Yuma sõda, California indiaanlaste sõjad, Pitti jõe sõjaretk 1851 – Texase-indiaanlaste sõjad, Cayuse’i sõda, Edela-indiaanlaste sõjad, Navajo sõjad, Apache sõjad, Yuma sõda, Utah‘ indiaanlaste sõjad, California indiaanlaste sõjad 1852 – Texase-indiaanlaste sõjad, Cayuse’i sõda, Edela-indiaanlaste sõjad, Navajo sõjad, Yuma sõda, Utah‘ indiaanlaste sõjad, California indiaanlaste sõjad 1853 – Texase-indiaanlaste sõjad, Cayuse’i sõda, Edela-indiaanlaste sõjad, Navajo sõjad, Yuma sõda, Utah‘ indiaanlaste sõjad, Walkeri sõda, California indiaanlaste sõjad 1854 – Texase-indiaanlaste sõjad, Cayuse’i sõda, Edela-indiaanlaste sõjad, Navajo sõjad, Apache sõjad, California indiaanlaste sõjad, lahing 1. ratsaväe ja indiaanlaste vahel 1855 – Seminole’i sõjad, Texase-indiaanlaste sõjad, Cayuse’i sõda, Edela-indiaanlaste sõjad, Navajo sõjad, Apache sõjad, California indiaanlaste sõjad, Yakima sõda, Winnasi sõjaretk, Klickitati sõda, Puget Soundi sõda, Rogue Riveri sõjad, USA väed tungisid sisse Fiji saartele ja Uruguaysse 1856 – Seminole’i sõjad, Texase-indiaanlaste sõjad, Edela-indiaanlaste sõjad, Navajo sõjad, California indiaanlaste sõjad, Puget Soundi sõda, Rogue Riveri sõjad, Tintici sõda 1857 – Seminole’i sõjad, Texase-indiaanlaste sõjad, Edela-indiaanlaste sõjad, Navajo sõjad, California indiaanlaste sõjad, Utah‘ sõda, konflikt Nicaraguas 1858 – Seminole’i sõjad, Texase-indiaanlaste sõjad, Edela-indiaanlaste sõjad, Navajo sõjad, Mohave sõda, California indiaanlaste sõjad, Spokane-Coeur d’Alene-Paloosi sõda, Utah‘ sõda, USA väed tungisid Fiji saartele ja Uruguaysse 1859 Texase-indiaanlaste sõjad, Edela-indiaanlaste sõjad, Navajo sõjad, California indiaanlaste sõjad, Pecose sõjaretk, Antelope Hillsi sõjaretk, Bear Riveri sõjaretk, John Browni rüüsteretk, USA väed alustasid rünnakut Paraguay vastu, USA väed tungisid Mehhikosse 1860 – Texase-indiaanlaste sõjad, Edela-indiaanlaste sõjad, Navajo sõjad, Apache sõjad, California indiaanlaste sõjad, Paiute’i sõda, Kiowa-Comanche’i sõda 1861 – Ameerika kodusõda, Texase-indiaanlaste sõjad, Edela-indiaanlaste sõjad, Navajo sõjad, Apache sõjad, California indiaanlaste sõjad, Cheyenne’i sõjakäik 1862 – Ameerika kodusõda, Texase-indiaanlaste sõjad, Edela-indiaanlaste sõjad, Navajo sõjad, Apache sõjad, California indiaanlaste sõjad, Cheyenne’i sõjakäik, 1862. aasta Dakota sõda 1863 – Ameerika kodusõda, Texase-indiaanlaste sõjad, Edela-indiaanlaste sõjad, Navajo sõjad, Apache sõjad, California indiaanlaste sõjad, Cheyenne’i sõjakäik, Colorado sõda, Goshute’i sõda 1864 – Ameerika kodusõda, Texase-indiaanlaste sõjad, Navajo sõjad, Apache sõjad, California indiaanlaste sõjad, Cheyenne’i sõjakäik, Colorado sõda, Mao sõda 1865 – Ameerika kodusõda, Texase-indiaanlaste sõjad, Navajo sõjad, Apache sõjad, California indiaanlaste sõjad, Colorado sõda, Mao sõda, Utah’ Musta Kulli sõda 1866 – Texase-indiaanlaste sõjad, Navajo sõjad, Apache sõjad, California indiaanlaste sõjad, lahing 1. ratsaväe ja indiaanlaste vahel, Mao sõda, Utah’ Musta Kulli sõda, Punase pilve sõda, Franklini maakonna sõda, USA tungis Mehhikosse, konflikt Hiinaga 1867 – Texase-indiaanlaste sõjad, Navajode Pikk Kõnnak, Apache sõjad, lahing 1. ratsaväe ja indiaanlaste vahel, Mao sõda, Utah’Musta Kulli sõda, Punase pilve sõda, Comanche’i sõjad, Franklini maakonna sõda, USA väed okupeerisid Nicaragua ning ründasid Taiwani 1868 – Texase-indiaanlaste sõjad, Navajode Pikk Kõnnak, Apache sõjad, lahing 1. ratsaväe ja indiaanlaste vahel, Mao sõda, Utah’ Musta Kulli sõda, Punase pilve sõda, Comanche’i sõjad, Washita jõe lahing, Franklini maakonna sõda 1869 – Texase-indiaanlaste sõjad, Apache sõjad, lahing 1. ratsaväe ja indiaanlaste vahel, Utah’ Musta Kulli sõda, Comanche’i sõjad, Franklini maakonna sõda 1870 – Texase-indiaanlaste sõjad, Apache sõjad, lahing 1. ratsaväe ja indiaanlaste vahel, Utah’ Musta Kulli sõda, Comanche’i sõjad, Franklini maakonna sõda 1871 – Texase-indiaanlaste sõjad, Apache sõjad, lahing 1. ratsaväe ja indiaanlaste vahel, Utah’ Musta Kulli sõda, Comanche’i sõjad, Franklini maakonna sõda, Kingsley Cave’i veresaun, USA väed tungisid Koreasse 1872 – Texase-indiaanlaste sõjad, Apache sõjad, Utah’ Musta Kulli sõda, Comanche’i sõjad, Modoci sõda, Franklini maakonna sõda 1873 – Texase-indiaanlaste sõjad, Comanche sõjad, Modoci sõda, Apache sõjad, Cypress Hillsi veresaun, USA väed tungisid Mehhikosse 1874 – Texase-indiaanlaste sõjad, Comanche sõjad, Red Riveri sõda, Masoni maakonna sõda, USA väed tungisid Mehhikosse 1875 – Konflikt Mehhikos, Texase-indiaanlaste sõjad, Comanche’i sõjad, Ida-Nevada, Masoni maakonna sõda, Colfaxi maakonna sõda, USA väed tungisid Mehhikosse 1876 – Texase-indiaanlaste sõjad, Black Hillsi sõda, Masoni maakonna sõda, USA väed tungisid Mehhikosse 1877 – Texase-indiaanlaste sõjad, lahing 1. ratsaväe ja indiaanlaste vahel, Black Hillsi sõda, Nez Perce’i sõda, Masoni maakonna sõda, Lincolni maakonna sõda, San Elizario soola sõda, USA väed tungisid Mehhikosse 1878 – Paiute’i indiaanlaste conflict, Bannocki sõda, Cheyenne’i sõda, Lincolni maakonna sõda, USA väed tungisid Mehhikosse 1879 – Cheyenne’i sõda, Sheepeateri indiaanlaste sõda, White Riveri sõda, USA väed tungisid Mehhikosse 1880 – USA väed tungisid Mehhikosse 1881 – USA väed tungisid Mehhikosse 1882 – USA väed tungisid Mehhikosse 1883 – USA väed tungisid Mehhikosse 1884 – USA väed tungisid Mehhikosse 1885 – Apache sõjad, Ida-Nevada sõjaretk, USA väed tungisid Mehhikosse 1886 – Apache sõjad, Pleasant Valley sõda, USA väed tungisid Mehhikosse 1887 – USA väed tungisid Mehhikosse 1888 – USA näitas jõudu Haiti vastu, USA väed tungisid Mehhikosse 1889 – USA väed tungisid Mehhikosse 1890 – Siouxi indiaanlaste sõda, lahing 1. ratsaväe ja indiaanlaste vahel, Ghost Dance’i sõda, Wounded Knee, USA väed tungisid Mehhikosse 1891 – Siouxi indiaanlaste sõda, Ghost Dance’i sõda, USA väed tungisid Mehhikosse 1892 – Johnsoni maakonna sõda, USA väed tungisid Mehhikosse 1893 – USA väed tungisid Mehhikosse ja Hawaiile 1894 – USA väed tungisid Mehhikosse 1895 – USA väed tungisid Mehhikosse, Bannocki indiaanlaste mäss 1896 – USA väed tungisid Mehhikosse 1897 – Suuremaid sõdu polnud 1898 – Hispaania- Ameerika sõda, Leech Lake’i lahing, Chippewa indiaanlaste mäss 1899 – Filipiinide-Ameerika sõda, Banaani sõjad 1900 – Filipiinide-Ameerika sõda, Banaani sõjad 1901 – Filipiinide-Ameerika sõda, Banaani sõjad 1902 – Filipiinide-Ameerika sõda, Banaani sõjad 1903 – Filipiinide-Ameerika sõda, Banaani sõjad 1904 – Filipiinide-Ameerika sõda, Banaani sõjad 1905 – Filipiinide-Ameerika sõda, Banaani sõjad 1906 – Filipiinide-Ameerika sõda, Banaani sõjad 1907 – Filipiinide-Ameerika sõda, Banaani sõjad 1908 – Filipiinide-Ameerika sõda, Banaani sõjad 1909 – Filipiinide-Ameerika sõda, Banaani sõjad 1910 – Filipiinide-Ameerika sõda, Banaani sõjad 1911 – Filipiinide-Ameerika sõda, Banaani sõjad 1912 – Filipiinide-Ameerika sõda, Banaani sõjad 1913 – Filipiinide-Ameerika sõda, Banaani sõjad, New Mexico Navajo sõda 1914 – Banaani sõjad, USA tungib Mehhikosse 1915 – Banaani sõjad, USA tungib Mehhikosse, Colorado Paiute’i sõda 1916 – Banaani sõjad, USA tungib Mehhikosse 1917 – Banaani sõjad, I maailmasõda, USA tungib Mehhikosse 1918 – Banaani sõjad, I maailmasõda, USA tungib Mehhikosse 1919 – Banaani sõjad, USA tungib Mehhikosse 1920 – Banaani sõjad 1921 – Banaani sõjad 1922 – Banaani sõjad 1923 – Banaani sõjad, Posey sõda 1924 – Banaani sõjad 1925 – Banaani sõjad 1926 – Banaani sõjad 1927 – Banaani sõjad 1928 – Banaani sõjad 1930 – Banaani sõjad 1931 – Banaani sõjad 1932 – Banaani sõjad 1933 – Banaani sõjad 1934 – Banaani sõjad 1935 – Suuremaid sõdu polnud 1936 – Suuremaid sõdu polnud 1937 – Suuremaid sõdu polnud 1938 – Suuremaid sõdu polnud 1939 – Suuremaid sõdu polnud 1940 – Suuremaid sõdu polnud 1941 – II maailmasõda 1942 – II maailmasõda 1943 – II maailmasõda 1944 – II maailmasõda 1945 – II maailmasõda 1946 – külm sõda (USA okupeeris Filipiinid ja Lõuna-Korea) 1947 – külm sõda (USA okupeeris Lõuna-Korea, USA väed maabusid Kreekas, et võidelda kommunistidega)  1948 – külm sõda (USA väed andsid Guomindangile abi võitluses kommunistide vastu) 1949 – külm sõda (USA väed andsid Guomindangile abi võitluses kommunistide vastu) 1950 – Korea sõda, Jayuga ülestõus 1951 – Korea sõda 1952 – Korea sõda 1953 – Korea sõda 1954 – Salajane sõda Guatemalas 1955 – Vietnami sõda 1956 – Vietnami sõda 1957 – Vietnami sõda 1958 – Vietnami sõda 1959 – Vietnami sõda, konflikt Haitis 1960 – Vietam sõda 1961 – Vietnami sõda 1962 – Vietnami sõda, külm sõda (Kuuba raketikriis, USA mereväelased võitlesid Tais kommunistidega) 1963 – Vietnami sõda 1964 – Vietnami sõda 1965 – Vietnami sõda, USA okupeeris Dominikaani Vabariigi 1966 – Vietnami sõda, USA okupeeris Dominikaani Vabariigi 1967 – Vietnami sõda 1968 – Vietnami sõda 1969 – Vietnami sõda 1970 – Vietnami sõda 1971 – Vietnami sõda 1972 – Vietnami sõda 1973 – Vietnami sõda, USA aitas Iisraeli Yom Kippuri sõjas 1974 – Vietnami sõda 1975 – Vietnami sõda 1976 – Suuremaid sõdu polnud 1977 – Suuremaid sõdu polnud 1978 – Suuremaid sõdu polnud 1979 – külm sõda (CIA varisõda Afganistanis) 1980 – külm sõda (CIA varisõda Afganistanis) 1981 – külm sõda (CIA varisõda Afganistanis ja Nicaraguas), Esimene Sidra lahe intsident 1982 – külm sõda (CIA varisõda Afganistanis ja Nicaraguas), konflikt Liibanonis 1983 – külm sõda (Grenada invasioon, CIA varisõda Afganistanis ja Nicaraguas), konflikt Liibanonis 1984 – külm sõda (CIA varisõda Afganistanis ja Nicaraguas), konflikt Pärsia lahes 1985 – külm sõda (CIA varisõda Afganistanis ja Nicaraguas) 1986 – külm sõda (CIA varisõda Afganistanis ja Nicaraguas) 1987 – Konflikt Pärsia lahes 1988 – Konflikt Pärsia lahes, USA okupeeris Panamafi 1989 – Teine Sidra lahe intsident, USA okupeeris Panama, konflikt Filipiinidel 1990 – Esimene Lahesõda, USA okupeeris Panama 1991 – Esimene Lahesõda 1992 – Konflikt Iraagis 1993 – Konflikt Iraagis 1994 – Konflikt Iraagis, USA tungis Haitisse 1995 – Konflikt Iraagis, USA tungis Haitisse, NATO pommitas Bosnia ja Hertsegoviinat. 1996 – Konflikt Iraagis 1997 – Suuremaid sõdu polnud 1998 – Iraagi pommitamine, raketirünnakud Sudaani ja Afganistani vastu 1999 – Kosovo sõda 2000 – Suuremaid sõdu polnud 2001 – Terrorivastane sõda Afganistanis 2002 – Terrorivastane sõda Afganistanis ja Jeemenis 2003 – Terrorivastane sõda Afganistanis ja Iraagis 2004 – Terrorivastane sõda Afganistanis, Iraagis, Pakistanis ja Jeemenis 2005 – Terrorivastane sõda Afganistanis, Iraagis, Pakistanis ja Jeemenis 2006 – Terrorivastane sõda Afganistanis, Iraagis, Pakistanis ja Jeemenis 2007 – Terrorivastane sõda Afganistanis , Iraagis, Pakistanis, Somaalias ja Jeemenis 2008 – Terrorivastane sõda Afganistanis, Iraagis, Pakistanis ja Jeemenis 2009 – Terrorivastane sõda Afganistanis, Iraagis, Pakistanis ja Jeemenis 2010 – Terrorivastane sõda Afganistanis, Iraagis, Pakistanis ja Jeemenis 2011 – Terrorivastane sõda Afganistanis, Iraagis, Pakistanis, Somaalias, Ugandas ja Jeemenis; konflikt Liibüas (Liibüa kodusõda) 2012 – Terrorivastane sõda Afganistanis, Pakistanis, Somaalias, Ugandas 2013 – Terrorivastane sõda Afganistanis, Pakistanis, Somaalias, Ugandas, USA väed korraldasid haarangud Liibüas 2014 – Terrorivastane sõda Afganistanis, Pakistanis, Somaalias, Ugandas, sekkumine Iraagis ja Süürias 2015 – Terrorivastane sõda Afganistanis, Pakistanis, Somaalias, Ugandas, sekkumine Iraagis, Süürias, Liibüas ja Jeemenis 2016 – Terrorivastane sõda Afganistanis, Pakistanis, Somaalias, Ugandas, sekkumine Iraagis, Süürias, Liibüas ja Jeemenis 2017 – Terrorivastane sõda Afganistanis, Pakistanis, Somaalias, Ugandas, sekkumine Iraagis, Süürias, Liibüas ja Jeemenis 2018 – Terrorivastane sõda Afganistanis, Pakistanis, Somaalias, sekkumine Iraagis, Süürias, Liibüas ja Jeemenis 2019 – tänapäev. Terrorivastane sõda Afganistanis, Pakistanis, Somaalias, sekkumine Iraagis, Süürias, Liibüas ja Jeemenis Kes nendes(t) sõdades(t) veel peale sõjatööstuse võidab?   Allikad: GlobalResearch, Loonwatch, The Evergreen State College, Wikipedia, New America Foto: history.com   Toimetas Annika Urvela   NB! Telegram tegutseb tänu lugejate abile. Kui sinu arvates on Telegramis ilmuv info vajalik ja oluline, võid soovi ja võimaluse korral meid toetada. Suur aitäh kõigile, kes aitavad olulisi teemasid pildis hoida! Unlimited MTÜ EE497700771002818684 BITCOIN 1Hqjxbt8czHcENjDQan5GFL3Qssn4znpAr DASH XjUJswujDzLgSgg7Ly8bK6TEo1kwVzaKeV BITCOIN CASH (BCH) 17yG7mpTcuJJbaXBufZweCX7nNqyoAs2Cs ETHEREUM 0x9b67438a7a4cdd88edb14c2880e920a3cba692c6 Telegrami artiklite mujal avaldamise tingimused.'"
      ]
     },
     "execution_count": 12,
     "metadata": {},
     "output_type": "execute_result"
    }
   ],
   "source": [
    "data_koos['text'][8808]"
   ]
  },
  {
   "cell_type": "code",
   "execution_count": 13,
   "metadata": {},
   "outputs": [
    {
     "data": {
      "text/plain": [
       "'\"Mulle lihtsalt ei jää see eesti keel külge. Ma õpin, kordan, loen tekste. Ma tean, et see pole kuigi kena, kuid ma olen koguaeg siin surve all. Mu närvisüsteem ei pea lihtsalt sellele pingele vastu ja mu psühholoogiline süsteem hakkab vastu keeleõppele.\"'"
      ]
     },
     "execution_count": 13,
     "metadata": {},
     "output_type": "execute_result"
    }
   ],
   "source": [
    "data_koos['text'][13745]"
   ]
  }
 ],
 "metadata": {
  "kernelspec": {
   "display_name": "Python 3",
   "language": "python",
   "name": "python3"
  },
  "language_info": {
   "codemirror_mode": {
    "name": "ipython",
    "version": 3
   },
   "file_extension": ".py",
   "mimetype": "text/x-python",
   "name": "python",
   "nbconvert_exporter": "python",
   "pygments_lexer": "ipython3",
   "version": "3.6.10"
  }
 },
 "nbformat": 4,
 "nbformat_minor": 4
}
